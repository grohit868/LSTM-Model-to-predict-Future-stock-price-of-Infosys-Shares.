{
 "cells": [
  {
   "cell_type": "code",
   "execution_count": 47,
   "metadata": {},
   "outputs": [],
   "source": [
    "import pandas as pd\n",
    "import numpy as np\n",
    "\n",
    "np.set_printoptions(suppress=True)"
   ]
  },
  {
   "cell_type": "markdown",
   "metadata": {},
   "source": [
    "### Date-30th July 2020"
   ]
  },
  {
   "cell_type": "code",
   "execution_count": 70,
   "metadata": {},
   "outputs": [
    {
     "name": "stdout",
     "output_type": "stream",
     "text": [
      "(245, 14)\n"
     ]
    },
    {
     "data": {
      "text/html": [
       "<div>\n",
       "<style scoped>\n",
       "    .dataframe tbody tr th:only-of-type {\n",
       "        vertical-align: middle;\n",
       "    }\n",
       "\n",
       "    .dataframe tbody tr th {\n",
       "        vertical-align: top;\n",
       "    }\n",
       "\n",
       "    .dataframe thead th {\n",
       "        text-align: right;\n",
       "    }\n",
       "</style>\n",
       "<table border=\"1\" class=\"dataframe\">\n",
       "  <thead>\n",
       "    <tr style=\"text-align: right;\">\n",
       "      <th></th>\n",
       "      <th>Symbol</th>\n",
       "      <th>Series</th>\n",
       "      <th>Prev Close</th>\n",
       "      <th>Open</th>\n",
       "      <th>High</th>\n",
       "      <th>Low</th>\n",
       "      <th>Last</th>\n",
       "      <th>Close</th>\n",
       "      <th>VWAP</th>\n",
       "      <th>Volume</th>\n",
       "      <th>Turnover</th>\n",
       "      <th>Trades</th>\n",
       "      <th>Deliverable Volume</th>\n",
       "      <th>%Deliverble</th>\n",
       "    </tr>\n",
       "    <tr>\n",
       "      <th>Date</th>\n",
       "      <th></th>\n",
       "      <th></th>\n",
       "      <th></th>\n",
       "      <th></th>\n",
       "      <th></th>\n",
       "      <th></th>\n",
       "      <th></th>\n",
       "      <th></th>\n",
       "      <th></th>\n",
       "      <th></th>\n",
       "      <th></th>\n",
       "      <th></th>\n",
       "      <th></th>\n",
       "      <th></th>\n",
       "    </tr>\n",
       "  </thead>\n",
       "  <tbody>\n",
       "    <tr>\n",
       "      <th>2019-08-01</th>\n",
       "      <td>INFY</td>\n",
       "      <td>EQ</td>\n",
       "      <td>793.65</td>\n",
       "      <td>786.45</td>\n",
       "      <td>788.40</td>\n",
       "      <td>764.40</td>\n",
       "      <td>770.25</td>\n",
       "      <td>768.85</td>\n",
       "      <td>774.33</td>\n",
       "      <td>10066407</td>\n",
       "      <td>7.794755e+14</td>\n",
       "      <td>216329</td>\n",
       "      <td>6020077</td>\n",
       "      <td>0.5980</td>\n",
       "    </tr>\n",
       "    <tr>\n",
       "      <th>2019-08-02</th>\n",
       "      <td>INFY</td>\n",
       "      <td>EQ</td>\n",
       "      <td>768.85</td>\n",
       "      <td>765.05</td>\n",
       "      <td>779.90</td>\n",
       "      <td>762.25</td>\n",
       "      <td>774.75</td>\n",
       "      <td>775.60</td>\n",
       "      <td>770.48</td>\n",
       "      <td>10838336</td>\n",
       "      <td>8.350680e+14</td>\n",
       "      <td>227612</td>\n",
       "      <td>6835374</td>\n",
       "      <td>0.6307</td>\n",
       "    </tr>\n",
       "    <tr>\n",
       "      <th>2019-08-05</th>\n",
       "      <td>INFY</td>\n",
       "      <td>EQ</td>\n",
       "      <td>775.60</td>\n",
       "      <td>772.60</td>\n",
       "      <td>785.90</td>\n",
       "      <td>768.65</td>\n",
       "      <td>776.80</td>\n",
       "      <td>776.70</td>\n",
       "      <td>777.83</td>\n",
       "      <td>9976238</td>\n",
       "      <td>7.759839e+14</td>\n",
       "      <td>281736</td>\n",
       "      <td>6166468</td>\n",
       "      <td>0.6181</td>\n",
       "    </tr>\n",
       "    <tr>\n",
       "      <th>2019-08-06</th>\n",
       "      <td>INFY</td>\n",
       "      <td>EQ</td>\n",
       "      <td>776.70</td>\n",
       "      <td>778.80</td>\n",
       "      <td>783.70</td>\n",
       "      <td>769.80</td>\n",
       "      <td>775.30</td>\n",
       "      <td>774.45</td>\n",
       "      <td>776.57</td>\n",
       "      <td>9331718</td>\n",
       "      <td>7.246766e+14</td>\n",
       "      <td>199427</td>\n",
       "      <td>6512914</td>\n",
       "      <td>0.6979</td>\n",
       "    </tr>\n",
       "    <tr>\n",
       "      <th>2019-08-07</th>\n",
       "      <td>INFY</td>\n",
       "      <td>EQ</td>\n",
       "      <td>774.45</td>\n",
       "      <td>778.90</td>\n",
       "      <td>783.45</td>\n",
       "      <td>772.35</td>\n",
       "      <td>776.05</td>\n",
       "      <td>776.10</td>\n",
       "      <td>778.99</td>\n",
       "      <td>5130457</td>\n",
       "      <td>3.996583e+14</td>\n",
       "      <td>157512</td>\n",
       "      <td>2955139</td>\n",
       "      <td>0.5760</td>\n",
       "    </tr>\n",
       "  </tbody>\n",
       "</table>\n",
       "</div>"
      ],
      "text/plain": [
       "           Symbol Series  Prev Close    Open    High     Low    Last   Close  \\\n",
       "Date                                                                           \n",
       "2019-08-01   INFY     EQ      793.65  786.45  788.40  764.40  770.25  768.85   \n",
       "2019-08-02   INFY     EQ      768.85  765.05  779.90  762.25  774.75  775.60   \n",
       "2019-08-05   INFY     EQ      775.60  772.60  785.90  768.65  776.80  776.70   \n",
       "2019-08-06   INFY     EQ      776.70  778.80  783.70  769.80  775.30  774.45   \n",
       "2019-08-07   INFY     EQ      774.45  778.90  783.45  772.35  776.05  776.10   \n",
       "\n",
       "              VWAP    Volume      Turnover  Trades  Deliverable Volume  \\\n",
       "Date                                                                     \n",
       "2019-08-01  774.33  10066407  7.794755e+14  216329             6020077   \n",
       "2019-08-02  770.48  10838336  8.350680e+14  227612             6835374   \n",
       "2019-08-05  777.83   9976238  7.759839e+14  281736             6166468   \n",
       "2019-08-06  776.57   9331718  7.246766e+14  199427             6512914   \n",
       "2019-08-07  778.99   5130457  3.996583e+14  157512             2955139   \n",
       "\n",
       "            %Deliverble  \n",
       "Date                     \n",
       "2019-08-01       0.5980  \n",
       "2019-08-02       0.6307  \n",
       "2019-08-05       0.6181  \n",
       "2019-08-06       0.6979  \n",
       "2019-08-07       0.5760  "
      ]
     },
     "execution_count": 70,
     "metadata": {},
     "output_type": "execute_result"
    }
   ],
   "source": [
    "from nsepy import get_history\n",
    "from datetime import datetime\n",
    "\n",
    "startDate=datetime(2019, 8,1)\n",
    "endDate=datetime(2020, 7, 30)\n",
    "\n",
    "# Fetching the data\n",
    "StockData=get_history(symbol='INFY', start=startDate, end=endDate)\n",
    "print(StockData.shape)\n",
    "StockData.head()"
   ]
  },
  {
   "cell_type": "code",
   "execution_count": 71,
   "metadata": {},
   "outputs": [
    {
     "data": {
      "text/html": [
       "<div>\n",
       "<style scoped>\n",
       "    .dataframe tbody tr th:only-of-type {\n",
       "        vertical-align: middle;\n",
       "    }\n",
       "\n",
       "    .dataframe tbody tr th {\n",
       "        vertical-align: top;\n",
       "    }\n",
       "\n",
       "    .dataframe thead th {\n",
       "        text-align: right;\n",
       "    }\n",
       "</style>\n",
       "<table border=\"1\" class=\"dataframe\">\n",
       "  <thead>\n",
       "    <tr style=\"text-align: right;\">\n",
       "      <th></th>\n",
       "      <th>Symbol</th>\n",
       "      <th>Series</th>\n",
       "      <th>Prev Close</th>\n",
       "      <th>Open</th>\n",
       "      <th>High</th>\n",
       "      <th>Low</th>\n",
       "      <th>Last</th>\n",
       "      <th>Close</th>\n",
       "      <th>VWAP</th>\n",
       "      <th>Volume</th>\n",
       "      <th>Turnover</th>\n",
       "      <th>Trades</th>\n",
       "      <th>Deliverable Volume</th>\n",
       "      <th>%Deliverble</th>\n",
       "      <th>TradeDate</th>\n",
       "    </tr>\n",
       "    <tr>\n",
       "      <th>Date</th>\n",
       "      <th></th>\n",
       "      <th></th>\n",
       "      <th></th>\n",
       "      <th></th>\n",
       "      <th></th>\n",
       "      <th></th>\n",
       "      <th></th>\n",
       "      <th></th>\n",
       "      <th></th>\n",
       "      <th></th>\n",
       "      <th></th>\n",
       "      <th></th>\n",
       "      <th></th>\n",
       "      <th></th>\n",
       "      <th></th>\n",
       "    </tr>\n",
       "  </thead>\n",
       "  <tbody>\n",
       "    <tr>\n",
       "      <th>2020-07-24</th>\n",
       "      <td>INFY</td>\n",
       "      <td>EQ</td>\n",
       "      <td>907.95</td>\n",
       "      <td>903.25</td>\n",
       "      <td>925.75</td>\n",
       "      <td>903.25</td>\n",
       "      <td>921.20</td>\n",
       "      <td>922.85</td>\n",
       "      <td>915.28</td>\n",
       "      <td>18209670</td>\n",
       "      <td>1.666699e+15</td>\n",
       "      <td>240036</td>\n",
       "      <td>5807097</td>\n",
       "      <td>0.3189</td>\n",
       "      <td>2020-07-24</td>\n",
       "    </tr>\n",
       "    <tr>\n",
       "      <th>2020-07-27</th>\n",
       "      <td>INFY</td>\n",
       "      <td>EQ</td>\n",
       "      <td>922.85</td>\n",
       "      <td>921.55</td>\n",
       "      <td>952.80</td>\n",
       "      <td>918.65</td>\n",
       "      <td>947.15</td>\n",
       "      <td>948.45</td>\n",
       "      <td>939.16</td>\n",
       "      <td>16828218</td>\n",
       "      <td>1.580444e+15</td>\n",
       "      <td>278528</td>\n",
       "      <td>5906860</td>\n",
       "      <td>0.3510</td>\n",
       "      <td>2020-07-27</td>\n",
       "    </tr>\n",
       "    <tr>\n",
       "      <th>2020-07-28</th>\n",
       "      <td>INFY</td>\n",
       "      <td>EQ</td>\n",
       "      <td>948.45</td>\n",
       "      <td>946.00</td>\n",
       "      <td>967.55</td>\n",
       "      <td>941.20</td>\n",
       "      <td>960.60</td>\n",
       "      <td>962.85</td>\n",
       "      <td>953.58</td>\n",
       "      <td>15819466</td>\n",
       "      <td>1.508506e+15</td>\n",
       "      <td>220010</td>\n",
       "      <td>5480184</td>\n",
       "      <td>0.3464</td>\n",
       "      <td>2020-07-28</td>\n",
       "    </tr>\n",
       "    <tr>\n",
       "      <th>2020-07-29</th>\n",
       "      <td>INFY</td>\n",
       "      <td>EQ</td>\n",
       "      <td>962.85</td>\n",
       "      <td>953.25</td>\n",
       "      <td>960.00</td>\n",
       "      <td>943.60</td>\n",
       "      <td>951.95</td>\n",
       "      <td>954.15</td>\n",
       "      <td>952.22</td>\n",
       "      <td>11152710</td>\n",
       "      <td>1.061982e+15</td>\n",
       "      <td>212215</td>\n",
       "      <td>4338542</td>\n",
       "      <td>0.3890</td>\n",
       "      <td>2020-07-29</td>\n",
       "    </tr>\n",
       "    <tr>\n",
       "      <th>2020-07-30</th>\n",
       "      <td>INFY</td>\n",
       "      <td>EQ</td>\n",
       "      <td>954.15</td>\n",
       "      <td>962.00</td>\n",
       "      <td>972.65</td>\n",
       "      <td>958.75</td>\n",
       "      <td>962.15</td>\n",
       "      <td>961.45</td>\n",
       "      <td>965.59</td>\n",
       "      <td>12492569</td>\n",
       "      <td>1.206274e+15</td>\n",
       "      <td>222807</td>\n",
       "      <td>5962965</td>\n",
       "      <td>0.4773</td>\n",
       "      <td>2020-07-30</td>\n",
       "    </tr>\n",
       "  </tbody>\n",
       "</table>\n",
       "</div>"
      ],
      "text/plain": [
       "           Symbol Series  Prev Close    Open    High     Low    Last   Close  \\\n",
       "Date                                                                           \n",
       "2020-07-24   INFY     EQ      907.95  903.25  925.75  903.25  921.20  922.85   \n",
       "2020-07-27   INFY     EQ      922.85  921.55  952.80  918.65  947.15  948.45   \n",
       "2020-07-28   INFY     EQ      948.45  946.00  967.55  941.20  960.60  962.85   \n",
       "2020-07-29   INFY     EQ      962.85  953.25  960.00  943.60  951.95  954.15   \n",
       "2020-07-30   INFY     EQ      954.15  962.00  972.65  958.75  962.15  961.45   \n",
       "\n",
       "              VWAP    Volume      Turnover  Trades  Deliverable Volume  \\\n",
       "Date                                                                     \n",
       "2020-07-24  915.28  18209670  1.666699e+15  240036             5807097   \n",
       "2020-07-27  939.16  16828218  1.580444e+15  278528             5906860   \n",
       "2020-07-28  953.58  15819466  1.508506e+15  220010             5480184   \n",
       "2020-07-29  952.22  11152710  1.061982e+15  212215             4338542   \n",
       "2020-07-30  965.59  12492569  1.206274e+15  222807             5962965   \n",
       "\n",
       "            %Deliverble   TradeDate  \n",
       "Date                                 \n",
       "2020-07-24       0.3189  2020-07-24  \n",
       "2020-07-27       0.3510  2020-07-27  \n",
       "2020-07-28       0.3464  2020-07-28  \n",
       "2020-07-29       0.3890  2020-07-29  \n",
       "2020-07-30       0.4773  2020-07-30  "
      ]
     },
     "execution_count": 71,
     "metadata": {},
     "output_type": "execute_result"
    }
   ],
   "source": [
    "StockData['TradeDate']=StockData.index\n",
    "StockData.tail()"
   ]
  },
  {
   "cell_type": "code",
   "execution_count": 72,
   "metadata": {},
   "outputs": [
    {
     "data": {
      "text/plain": [
       "<matplotlib.axes._subplots.AxesSubplot at 0x5804748>"
      ]
     },
     "execution_count": 72,
     "metadata": {},
     "output_type": "execute_result"
    },
    {
     "data": {
      "image/png": "[encoded data removed]",
      "text/plain": [
       "<Figure size 1440x432 with 1 Axes>"
      ]
     },
     "metadata": {
      "needs_background": "light"
     },
     "output_type": "display_data"
    }
   ],
   "source": [
    "%matplotlib inline\n",
    "StockData.plot(x='TradeDate', y='Close', kind='line', figsize=(20,6), rot=20)"
   ]
  },
  {
   "cell_type": "code",
   "execution_count": 73,
   "metadata": {},
   "outputs": [
    {
     "data": {
      "text/plain": [
       "array([[768.85],\n",
       "       [775.6 ],\n",
       "       [776.7 ],\n",
       "       [774.45],\n",
       "       [776.1 ]])"
      ]
     },
     "execution_count": 73,
     "metadata": {},
     "output_type": "execute_result"
    }
   ],
   "source": [
    "FullData=StockData[['Close']].values\n",
    "FullData[0:5]"
   ]
  },
  {
   "cell_type": "code",
   "execution_count": 74,
   "metadata": {},
   "outputs": [
    {
     "data": {
      "text/plain": [
       "array([[0.55545371],\n",
       "       [0.57092117],\n",
       "       [0.5734418 ],\n",
       "       [0.56828598],\n",
       "       [0.57206691]])"
      ]
     },
     "execution_count": 74,
     "metadata": {},
     "output_type": "execute_result"
    }
   ],
   "source": [
    "from sklearn.preprocessing import StandardScaler, MinMaxScaler\n",
    "\n",
    "sc=MinMaxScaler()\n",
    "\n",
    "DataScaler = sc.fit(FullData)\n",
    "X=DataScaler.transform(FullData)\n",
    "\n",
    "X[0:5]"
   ]
  },
  {
   "cell_type": "code",
   "execution_count": 75,
   "metadata": {},
   "outputs": [],
   "source": [
    "X_samples = list()\n",
    "y_samples = list()\n",
    "\n",
    "NumerOfRows = len(X)\n",
    "TimeSteps=10  \n",
    "\n",
    "for i in range(TimeSteps , NumerOfRows , 1):\n",
    "    x_sample = X[i-TimeSteps:i]\n",
    "    y_sample = X[i]\n",
    "    X_samples.append(x_sample)\n",
    "    y_samples.append(y_sample)"
   ]
  },
  {
   "cell_type": "code",
   "execution_count": 76,
   "metadata": {},
   "outputs": [
    {
     "data": {
      "text/plain": [
       "(235, 10, 1)"
      ]
     },
     "execution_count": 76,
     "metadata": {},
     "output_type": "execute_result"
    }
   ],
   "source": [
    "X_data=np.array(X_samples)\n",
    "X_data=X_data.reshape(X_data.shape[0],X_data.shape[1], 1)\n",
    "X_data.shape"
   ]
  },
  {
   "cell_type": "code",
   "execution_count": 77,
   "metadata": {},
   "outputs": [
    {
     "data": {
      "text/plain": [
       "(235, 1)"
      ]
     },
     "execution_count": 77,
     "metadata": {},
     "output_type": "execute_result"
    }
   ],
   "source": [
    "y_data=np.array(y_samples)\n",
    "y_data=y_data.reshape(y_data.shape[0], 1)\n",
    "y_data.shape"
   ]
  },
  {
   "cell_type": "code",
   "execution_count": 78,
   "metadata": {},
   "outputs": [],
   "source": [
    "TestingRecords=10\n",
    "\n",
    "X_train=X_data[:-TestingRecords]\n",
    "X_test=X_data[-TestingRecords:]\n",
    "y_train=y_data[:-TestingRecords]\n",
    "y_test=y_data[-TestingRecords:]"
   ]
  },
  {
   "cell_type": "code",
   "execution_count": 79,
   "metadata": {},
   "outputs": [
    {
     "name": "stdout",
     "output_type": "stream",
     "text": [
      "(225, 10, 1)\n",
      "(225, 1)\n",
      "(10, 10, 1)\n",
      "(10, 1)\n"
     ]
    }
   ],
   "source": [
    "print(X_train.shape)\n",
    "print(y_train.shape)\n",
    "print(X_test.shape)\n",
    "print(y_test.shape)"
   ]
  },
  {
   "cell_type": "code",
   "execution_count": 80,
   "metadata": {},
   "outputs": [
    {
     "name": "stdout",
     "output_type": "stream",
     "text": [
      "[[0.55545371]\n",
      " [0.57092117]\n",
      " [0.5734418 ]\n",
      " [0.56828598]\n",
      " [0.57206691]\n",
      " [0.60105408]\n",
      " [0.6035747 ]\n",
      " [0.54605866]\n",
      " [0.56908799]\n",
      " [0.56851512]] --> [0.5756187]\n",
      "[[0.57092117]\n",
      " [0.5734418 ]\n",
      " [0.56828598]\n",
      " [0.57206691]\n",
      " [0.60105408]\n",
      " [0.6035747 ]\n",
      " [0.54605866]\n",
      " [0.56908799]\n",
      " [0.56851512]\n",
      " [0.5756187 ]] --> [0.61021998]\n",
      "[[0.5734418 ]\n",
      " [0.56828598]\n",
      " [0.57206691]\n",
      " [0.60105408]\n",
      " [0.6035747 ]\n",
      " [0.54605866]\n",
      " [0.56908799]\n",
      " [0.56851512]\n",
      " [0.5756187 ]\n",
      " [0.61021998]] --> [0.62557287]\n",
      "[[0.56828598]\n",
      " [0.57206691]\n",
      " [0.60105408]\n",
      " [0.6035747 ]\n",
      " [0.54605866]\n",
      " [0.56908799]\n",
      " [0.56851512]\n",
      " [0.5756187 ]\n",
      " [0.61021998]\n",
      " [0.62557287]] --> [0.61697984]\n",
      "[[0.57206691]\n",
      " [0.60105408]\n",
      " [0.6035747 ]\n",
      " [0.54605866]\n",
      " [0.56908799]\n",
      " [0.56851512]\n",
      " [0.5756187 ]\n",
      " [0.61021998]\n",
      " [0.62557287]\n",
      " [0.61697984]] --> [0.63187443]\n"
     ]
    }
   ],
   "source": [
    "for inp, out in zip(X_train[0:5], y_train[0:5]):\n",
    "    print(inp,'-->', out)"
   ]
  },
  {
   "cell_type": "code",
   "execution_count": 81,
   "metadata": {},
   "outputs": [
    {
     "name": "stdout",
     "output_type": "stream",
     "text": [
      "Number of TimeSteps: 10\n",
      "Number of Features: 1\n"
     ]
    }
   ],
   "source": [
    "TimeSteps=X_train.shape[1]\n",
    "TotalFeatures=X_train.shape[2]\n",
    "print(\"Number of TimeSteps:\", TimeSteps)\n",
    "print(\"Number of Features:\", TotalFeatures)"
   ]
  },
  {
   "cell_type": "code",
   "execution_count": 82,
   "metadata": {},
   "outputs": [],
   "source": [
    "from keras.models import Sequential\n",
    "from keras.layers import Dense\n",
    "from keras.layers import LSTM\n",
    "\n",
    "regressor = Sequential()\n",
    "\n",
    "regressor.add(LSTM(units = 5, activation = 'relu', input_shape = (TimeSteps, TotalFeatures), return_sequences=True))\n",
    "\n",
    "\n",
    "regressor.add(LSTM(units = 5, activation = 'relu', input_shape = (TimeSteps, TotalFeatures), return_sequences=True))\n",
    "\n",
    "regressor.add(LSTM(units = 5, activation = 'relu', return_sequences=False ))\n",
    "\n",
    "\n",
    "regressor.add(Dense(units = 1))\n",
    "\n",
    "regressor.compile(optimizer = 'adam', loss = 'mean_squared_error')"
   ]
  },
  {
   "cell_type": "code",
   "execution_count": 83,
   "metadata": {
    "scrolled": false
   },
   "outputs": [
    {
     "name": "stdout",
     "output_type": "stream",
     "text": [
      "Epoch 1/100\n",
      "57/57 [==============================] - 1s 14ms/step - loss: 0.1395\n",
      "Epoch 2/100\n",
      "57/57 [==============================] - 1s 14ms/step - loss: 0.0229\n",
      "Epoch 3/100\n",
      "57/57 [==============================] - 1s 13ms/step - loss: 0.0189\n",
      "Epoch 4/100\n",
      "57/57 [==============================] - 1s 13ms/step - loss: 0.0145\n",
      "Epoch 5/100\n",
      "57/57 [==============================] - 1s 13ms/step - loss: 0.0116\n",
      "Epoch 6/100\n",
      "57/57 [==============================] - 1s 14ms/step - loss: 0.0099\n",
      "Epoch 7/100\n",
      "57/57 [==============================] - 1s 15ms/step - loss: 0.0092\n",
      "Epoch 8/100\n",
      "57/57 [==============================] - 1s 14ms/step - loss: 0.0087\n",
      "Epoch 9/100\n",
      "57/57 [==============================] - 1s 15ms/step - loss: 0.0086\n",
      "Epoch 10/100\n",
      "57/57 [==============================] - 1s 13ms/step - loss: 0.0085\n",
      "Epoch 11/100\n",
      "57/57 [==============================] - 1s 13ms/step - loss: 0.0087\n",
      "Epoch 12/100\n",
      "57/57 [==============================] - 1s 13ms/step - loss: 0.0079\n",
      "Epoch 13/100\n",
      "57/57 [==============================] - 1s 13ms/step - loss: 0.0077\n",
      "Epoch 14/100\n",
      "57/57 [==============================] - 1s 13ms/step - loss: 0.0078\n",
      "Epoch 15/100\n",
      "57/57 [==============================] - 1s 15ms/step - loss: 0.0077: 0s - loss: 0\n",
      "Epoch 16/100\n",
      "57/57 [==============================] - 1s 17ms/step - loss: 0.0073\n",
      "Epoch 17/100\n",
      "57/57 [==============================] - 1s 20ms/step - loss: 0.0072\n",
      "Epoch 18/100\n",
      "57/57 [==============================] - 1s 14ms/step - loss: 0.0074\n",
      "Epoch 19/100\n",
      "57/57 [==============================] - 1s 12ms/step - loss: 0.0071\n",
      "Epoch 20/100\n",
      "57/57 [==============================] - 1s 13ms/step - loss: 0.0071\n",
      "Epoch 21/100\n",
      "57/57 [==============================] - 1s 12ms/step - loss: 0.0069\n",
      "Epoch 22/100\n",
      "57/57 [==============================] - 1s 12ms/step - loss: 0.0070\n",
      "Epoch 23/100\n",
      "57/57 [==============================] - 1s 12ms/step - loss: 0.0066\n",
      "Epoch 24/100\n",
      "57/57 [==============================] - 1s 11ms/step - loss: 0.0066\n",
      "Epoch 25/100\n",
      "57/57 [==============================] - 1s 11ms/step - loss: 0.0065\n",
      "Epoch 26/100\n",
      "57/57 [==============================] - 1s 11ms/step - loss: 0.0062\n",
      "Epoch 27/100\n",
      "57/57 [==============================] - 1s 11ms/step - loss: 0.0062\n",
      "Epoch 28/100\n",
      "57/57 [==============================] - 1s 11ms/step - loss: 0.0060\n",
      "Epoch 29/100\n",
      "57/57 [==============================] - 1s 12ms/step - loss: 0.0059\n",
      "Epoch 30/100\n",
      "57/57 [==============================] - 1s 11ms/step - loss: 0.0059\n",
      "Epoch 31/100\n",
      "57/57 [==============================] - 1s 13ms/step - loss: 0.0057\n",
      "Epoch 32/100\n",
      "57/57 [==============================] - 1s 11ms/step - loss: 0.0057\n",
      "Epoch 33/100\n",
      "57/57 [==============================] - 1s 11ms/step - loss: 0.0055\n",
      "Epoch 34/100\n",
      "57/57 [==============================] - 1s 11ms/step - loss: 0.0053\n",
      "Epoch 35/100\n",
      "57/57 [==============================] - 1s 11ms/step - loss: 0.0052\n",
      "Epoch 36/100\n",
      "57/57 [==============================] - 1s 14ms/step - loss: 0.0055\n",
      "Epoch 37/100\n",
      "57/57 [==============================] - 1s 11ms/step - loss: 0.0050\n",
      "Epoch 38/100\n",
      "57/57 [==============================] - 1s 12ms/step - loss: 0.0050\n",
      "Epoch 39/100\n",
      "57/57 [==============================] - 1s 12ms/step - loss: 0.0050\n",
      "Epoch 40/100\n",
      "57/57 [==============================] - 1s 11ms/step - loss: 0.0050\n",
      "Epoch 41/100\n",
      "57/57 [==============================] - 1s 11ms/step - loss: 0.0051\n",
      "Epoch 42/100\n",
      "57/57 [==============================] - 1s 11ms/step - loss: 0.0050\n",
      "Epoch 43/100\n",
      "57/57 [==============================] - 1s 11ms/step - loss: 0.0050\n",
      "Epoch 44/100\n",
      "57/57 [==============================] - 1s 12ms/step - loss: 0.0053\n",
      "Epoch 45/100\n",
      "57/57 [==============================] - 1s 11ms/step - loss: 0.0050\n",
      "Epoch 46/100\n",
      "57/57 [==============================] - 1s 13ms/step - loss: 0.0049\n",
      "Epoch 47/100\n",
      "57/57 [==============================] - 1s 11ms/step - loss: 0.0046\n",
      "Epoch 48/100\n",
      "57/57 [==============================] - 1s 11ms/step - loss: 0.0045\n",
      "Epoch 49/100\n",
      "57/57 [==============================] - 1s 11ms/step - loss: 0.0050\n",
      "Epoch 50/100\n",
      "57/57 [==============================] - 1s 11ms/step - loss: 0.0046\n",
      "Epoch 51/100\n",
      "57/57 [==============================] - 1s 11ms/step - loss: 0.0045\n",
      "Epoch 52/100\n",
      "57/57 [==============================] - 1s 12ms/step - loss: 0.0048\n",
      "Epoch 53/100\n",
      "57/57 [==============================] - 1s 11ms/step - loss: 0.0047\n",
      "Epoch 54/100\n",
      "57/57 [==============================] - 1s 13ms/step - loss: 0.0046\n",
      "Epoch 55/100\n",
      "57/57 [==============================] - 1s 11ms/step - loss: 0.0044\n",
      "Epoch 56/100\n",
      "57/57 [==============================] - 1s 11ms/step - loss: 0.0044\n",
      "Epoch 57/100\n",
      "57/57 [==============================] - 1s 11ms/step - loss: 0.0043ETA: 0s - los\n",
      "Epoch 58/100\n",
      "57/57 [==============================] - 1s 11ms/step - loss: 0.0045\n",
      "Epoch 59/100\n",
      "57/57 [==============================] - 1s 11ms/step - loss: 0.0043\n",
      "Epoch 60/100\n",
      "57/57 [==============================] - 1s 12ms/step - loss: 0.0041\n",
      "Epoch 61/100\n",
      "57/57 [==============================] - 1s 11ms/step - loss: 0.0042\n",
      "Epoch 62/100\n",
      "57/57 [==============================] - 1s 13ms/step - loss: 0.0044\n",
      "Epoch 63/100\n",
      "57/57 [==============================] - 1s 11ms/step - loss: 0.0039\n",
      "Epoch 64/100\n",
      "57/57 [==============================] - 1s 11ms/step - loss: 0.0041\n",
      "Epoch 65/100\n",
      "57/57 [==============================] - 1s 11ms/step - loss: 0.0039\n",
      "Epoch 66/100\n",
      "57/57 [==============================] - 1s 11ms/step - loss: 0.0040\n",
      "Epoch 67/100\n",
      "57/57 [==============================] - 1s 11ms/step - loss: 0.0042\n",
      "Epoch 68/100\n",
      "57/57 [==============================] - 1s 12ms/step - loss: 0.0039\n",
      "Epoch 69/100\n",
      "57/57 [==============================] - 1s 11ms/step - loss: 0.0039\n",
      "Epoch 70/100\n",
      "57/57 [==============================] - 1s 13ms/step - loss: 0.0038\n",
      "Epoch 71/100\n",
      "57/57 [==============================] - 1s 13ms/step - loss: 0.0039\n",
      "Epoch 72/100\n",
      "57/57 [==============================] - 1s 15ms/step - loss: 0.0037\n",
      "Epoch 73/100\n",
      "57/57 [==============================] - 1s 17ms/step - loss: 0.0039\n",
      "Epoch 74/100\n",
      "57/57 [==============================] - 1s 15ms/step - loss: 0.0040: 0s - loss: 0.00\n",
      "Epoch 75/100\n",
      "57/57 [==============================] - 1s 14ms/step - loss: 0.0036\n",
      "Epoch 76/100\n",
      "57/57 [==============================] - 1s 15ms/step - loss: 0.0036\n",
      "Epoch 77/100\n",
      "57/57 [==============================] - 1s 14ms/step - loss: 0.0036\n",
      "Epoch 78/100\n",
      "57/57 [==============================] - 1s 13ms/step - loss: 0.0036\n",
      "Epoch 79/100\n",
      "57/57 [==============================] - 1s 14ms/step - loss: 0.0037\n",
      "Epoch 80/100\n",
      "57/57 [==============================] - 1s 14ms/step - loss: 0.0037\n",
      "Epoch 81/100\n",
      "57/57 [==============================] - 1s 14ms/step - loss: 0.0039\n",
      "Epoch 82/100\n",
      "57/57 [==============================] - 1s 14ms/step - loss: 0.0037\n",
      "Epoch 83/100\n",
      "57/57 [==============================] - 1s 16ms/step - loss: 0.0046\n",
      "Epoch 84/100\n",
      "57/57 [==============================] - 1s 13ms/step - loss: 0.0037\n",
      "Epoch 85/100\n",
      "57/57 [==============================] - 1s 15ms/step - loss: 0.0035\n",
      "Epoch 86/100\n",
      "57/57 [==============================] - 1s 14ms/step - loss: 0.0036\n",
      "Epoch 87/100\n",
      "57/57 [==============================] - 1s 14ms/step - loss: 0.0038\n",
      "Epoch 88/100\n",
      "57/57 [==============================] - 1s 13ms/step - loss: 0.0035\n",
      "Epoch 89/100\n",
      "57/57 [==============================] - 1s 15ms/step - loss: 0.0035\n",
      "Epoch 90/100\n",
      "57/57 [==============================] - 1s 17ms/step - loss: 0.0040\n",
      "Epoch 91/100\n",
      "57/57 [==============================] - 1s 14ms/step - loss: 0.0035\n",
      "Epoch 92/100\n",
      "57/57 [==============================] - 1s 14ms/step - loss: 0.0039\n",
      "Epoch 93/100\n",
      "57/57 [==============================] - 1s 16ms/step - loss: 0.0035\n",
      "Epoch 94/100\n",
      "57/57 [==============================] - 1s 15ms/step - loss: 0.0034\n",
      "Epoch 95/100\n",
      "57/57 [==============================] - 1s 14ms/step - loss: 0.0036\n",
      "Epoch 96/100\n",
      "57/57 [==============================] - 1s 16ms/step - loss: 0.0034\n",
      "Epoch 97/100\n",
      "57/57 [==============================] - 1s 14ms/step - loss: 0.0035\n",
      "Epoch 98/100\n",
      "57/57 [==============================] - 1s 13ms/step - loss: 0.0034\n",
      "Epoch 99/100\n",
      "57/57 [==============================] - 1s 14ms/step - loss: 0.0034\n",
      "Epoch 100/100\n",
      "57/57 [==============================] - 1s 15ms/step - loss: 0.0034\n",
      "############### Total Time Taken:  1 Minutes #############\n"
     ]
    }
   ],
   "source": [
    "import time\n",
    "StartTime=time.time()\n",
    "\n",
    "regressor.fit(X_train, y_train, batch_size = 4, epochs = 100)\n",
    "\n",
    "EndTime=time.time()\n",
    "print(\"############### Total Time Taken: \", round((EndTime-StartTime)/60), 'Minutes #############')"
   ]
  },
  {
   "cell_type": "code",
   "execution_count": 84,
   "metadata": {},
   "outputs": [
    {
     "data": {
      "text/plain": [
       "array([[866.14636],\n",
       "       [915.4105 ],\n",
       "       [941.11975],\n",
       "       [968.19135],\n",
       "       [959.7426 ],\n",
       "       [935.0937 ],\n",
       "       [915.5613 ],\n",
       "       [890.78503],\n",
       "       [888.3481 ],\n",
       "       [886.0102 ]], dtype=float32)"
      ]
     },
     "execution_count": 84,
     "metadata": {},
     "output_type": "execute_result"
    }
   ],
   "source": [
    "predicted_Price = regressor.predict(X_test)\n",
    "predicted_Price = DataScaler.inverse_transform(predicted_Price)\n",
    "predicted_Price"
   ]
  },
  {
   "cell_type": "code",
   "execution_count": 85,
   "metadata": {},
   "outputs": [
    {
     "data": {
      "text/plain": [
       "array([[903.15],\n",
       "       [934.3 ],\n",
       "       [936.75],\n",
       "       [917.9 ],\n",
       "       [907.95],\n",
       "       [922.85],\n",
       "       [948.45],\n",
       "       [962.85],\n",
       "       [954.15],\n",
       "       [961.45]])"
      ]
     },
     "execution_count": 85,
     "metadata": {},
     "output_type": "execute_result"
    }
   ],
   "source": [
    "orig=y_test\n",
    "orig=DataScaler.inverse_transform(y_test)\n",
    "orig"
   ]
  },
  {
   "cell_type": "code",
   "execution_count": 86,
   "metadata": {},
   "outputs": [
    {
     "data": {
      "text/plain": [
       "95.52095081662914"
      ]
     },
     "execution_count": 86,
     "metadata": {},
     "output_type": "execute_result"
    }
   ],
   "source": [
    "100 - (100*(abs(orig-predicted_Price)/orig)).mean()"
   ]
  },
  {
   "cell_type": "code",
   "execution_count": 87,
   "metadata": {},
   "outputs": [
    {
     "data": {
      "image/png": "[encoded data removed]",
      "text/plain": [
       "<Figure size 1440x432 with 1 Axes>"
      ]
     },
     "metadata": {
      "needs_background": "light"
     },
     "output_type": "display_data"
    }
   ],
   "source": [
    "import matplotlib.pyplot as plt\n",
    "\n",
    "plt.plot(predicted_Price, color = 'blue', label = 'Predicted Volume')\n",
    "plt.plot(orig, color = 'lightblue', label = 'Original Volume')\n",
    "\n",
    "plt.title('Stock Price Predictions')\n",
    "plt.xlabel('Trading Date')\n",
    "plt.xticks(range(TestingRecords), StockData.tail(TestingRecords)['TradeDate'])\n",
    "plt.ylabel('Stock Price')\n",
    "\n",
    "plt.legend()\n",
    "fig=plt.gcf()\n",
    "fig.set_figwidth(20)\n",
    "fig.set_figheight(6)\n",
    "plt.show()"
   ]
  },
  {
   "cell_type": "code",
   "execution_count": 88,
   "metadata": {},
   "outputs": [
    {
     "data": {
      "image/png": "[encoded data removed]",
      "text/plain": [
       "<Figure size 1440x576 with 1 Axes>"
      ]
     },
     "metadata": {
      "needs_background": "light"
     },
     "output_type": "display_data"
    }
   ],
   "source": [
    "TrainPredictions=DataScaler.inverse_transform(regressor.predict(X_train))\n",
    "TestPredictions=DataScaler.inverse_transform(regressor.predict(X_test))\n",
    "\n",
    "FullDataPredictions=np.append(TrainPredictions, TestPredictions)\n",
    "FullDataOrig=FullData[TimeSteps:]\n",
    "\n",
    "plt.plot(FullDataPredictions, color = 'blue', label = 'Predicted Price')\n",
    "plt.plot(FullDataOrig , color = 'lightblue', label = 'Original Price')\n",
    "\n",
    "\n",
    "plt.title('Stock Price Predictions')\n",
    "plt.xlabel('Trading Date')\n",
    "plt.ylabel('Stock Price')\n",
    "plt.legend()\n",
    "fig=plt.gcf()\n",
    "fig.set_figwidth(20)\n",
    "fig.set_figheight(8)\n",
    "plt.show()"
   ]
  },
  {
   "cell_type": "code",
   "execution_count": null,
   "metadata": {},
   "outputs": [],
   "source": []
  },
  {
   "cell_type": "markdown",
   "metadata": {},
   "source": [
    "30th July ACCURACY -95.51%"
   ]
  },
  {
   "cell_type": "markdown",
   "metadata": {},
   "source": [
    "31st July 2020"
   ]
  },
  {
   "cell_type": "code",
   "execution_count": 90,
   "metadata": {},
   "outputs": [
    {
     "name": "stdout",
     "output_type": "stream",
     "text": [
      "(246, 14)\n"
     ]
    },
    {
     "data": {
      "text/html": [
       "<div>\n",
       "<style scoped>\n",
       "    .dataframe tbody tr th:only-of-type {\n",
       "        vertical-align: middle;\n",
       "    }\n",
       "\n",
       "    .dataframe tbody tr th {\n",
       "        vertical-align: top;\n",
       "    }\n",
       "\n",
       "    .dataframe thead th {\n",
       "        text-align: right;\n",
       "    }\n",
       "</style>\n",
       "<table border=\"1\" class=\"dataframe\">\n",
       "  <thead>\n",
       "    <tr style=\"text-align: right;\">\n",
       "      <th></th>\n",
       "      <th>Symbol</th>\n",
       "      <th>Series</th>\n",
       "      <th>Prev Close</th>\n",
       "      <th>Open</th>\n",
       "      <th>High</th>\n",
       "      <th>Low</th>\n",
       "      <th>Last</th>\n",
       "      <th>Close</th>\n",
       "      <th>VWAP</th>\n",
       "      <th>Volume</th>\n",
       "      <th>Turnover</th>\n",
       "      <th>Trades</th>\n",
       "      <th>Deliverable Volume</th>\n",
       "      <th>%Deliverble</th>\n",
       "    </tr>\n",
       "    <tr>\n",
       "      <th>Date</th>\n",
       "      <th></th>\n",
       "      <th></th>\n",
       "      <th></th>\n",
       "      <th></th>\n",
       "      <th></th>\n",
       "      <th></th>\n",
       "      <th></th>\n",
       "      <th></th>\n",
       "      <th></th>\n",
       "      <th></th>\n",
       "      <th></th>\n",
       "      <th></th>\n",
       "      <th></th>\n",
       "      <th></th>\n",
       "    </tr>\n",
       "  </thead>\n",
       "  <tbody>\n",
       "    <tr>\n",
       "      <th>2019-08-01</th>\n",
       "      <td>INFY</td>\n",
       "      <td>EQ</td>\n",
       "      <td>793.65</td>\n",
       "      <td>786.45</td>\n",
       "      <td>788.40</td>\n",
       "      <td>764.40</td>\n",
       "      <td>770.25</td>\n",
       "      <td>768.85</td>\n",
       "      <td>774.33</td>\n",
       "      <td>10066407</td>\n",
       "      <td>7.794755e+14</td>\n",
       "      <td>216329</td>\n",
       "      <td>6020077</td>\n",
       "      <td>0.5980</td>\n",
       "    </tr>\n",
       "    <tr>\n",
       "      <th>2019-08-02</th>\n",
       "      <td>INFY</td>\n",
       "      <td>EQ</td>\n",
       "      <td>768.85</td>\n",
       "      <td>765.05</td>\n",
       "      <td>779.90</td>\n",
       "      <td>762.25</td>\n",
       "      <td>774.75</td>\n",
       "      <td>775.60</td>\n",
       "      <td>770.48</td>\n",
       "      <td>10838336</td>\n",
       "      <td>8.350680e+14</td>\n",
       "      <td>227612</td>\n",
       "      <td>6835374</td>\n",
       "      <td>0.6307</td>\n",
       "    </tr>\n",
       "    <tr>\n",
       "      <th>2019-08-05</th>\n",
       "      <td>INFY</td>\n",
       "      <td>EQ</td>\n",
       "      <td>775.60</td>\n",
       "      <td>772.60</td>\n",
       "      <td>785.90</td>\n",
       "      <td>768.65</td>\n",
       "      <td>776.80</td>\n",
       "      <td>776.70</td>\n",
       "      <td>777.83</td>\n",
       "      <td>9976238</td>\n",
       "      <td>7.759839e+14</td>\n",
       "      <td>281736</td>\n",
       "      <td>6166468</td>\n",
       "      <td>0.6181</td>\n",
       "    </tr>\n",
       "    <tr>\n",
       "      <th>2019-08-06</th>\n",
       "      <td>INFY</td>\n",
       "      <td>EQ</td>\n",
       "      <td>776.70</td>\n",
       "      <td>778.80</td>\n",
       "      <td>783.70</td>\n",
       "      <td>769.80</td>\n",
       "      <td>775.30</td>\n",
       "      <td>774.45</td>\n",
       "      <td>776.57</td>\n",
       "      <td>9331718</td>\n",
       "      <td>7.246766e+14</td>\n",
       "      <td>199427</td>\n",
       "      <td>6512914</td>\n",
       "      <td>0.6979</td>\n",
       "    </tr>\n",
       "    <tr>\n",
       "      <th>2019-08-07</th>\n",
       "      <td>INFY</td>\n",
       "      <td>EQ</td>\n",
       "      <td>774.45</td>\n",
       "      <td>778.90</td>\n",
       "      <td>783.45</td>\n",
       "      <td>772.35</td>\n",
       "      <td>776.05</td>\n",
       "      <td>776.10</td>\n",
       "      <td>778.99</td>\n",
       "      <td>5130457</td>\n",
       "      <td>3.996583e+14</td>\n",
       "      <td>157512</td>\n",
       "      <td>2955139</td>\n",
       "      <td>0.5760</td>\n",
       "    </tr>\n",
       "  </tbody>\n",
       "</table>\n",
       "</div>"
      ],
      "text/plain": [
       "           Symbol Series  Prev Close    Open    High     Low    Last   Close  \\\n",
       "Date                                                                           \n",
       "2019-08-01   INFY     EQ      793.65  786.45  788.40  764.40  770.25  768.85   \n",
       "2019-08-02   INFY     EQ      768.85  765.05  779.90  762.25  774.75  775.60   \n",
       "2019-08-05   INFY     EQ      775.60  772.60  785.90  768.65  776.80  776.70   \n",
       "2019-08-06   INFY     EQ      776.70  778.80  783.70  769.80  775.30  774.45   \n",
       "2019-08-07   INFY     EQ      774.45  778.90  783.45  772.35  776.05  776.10   \n",
       "\n",
       "              VWAP    Volume      Turnover  Trades  Deliverable Volume  \\\n",
       "Date                                                                     \n",
       "2019-08-01  774.33  10066407  7.794755e+14  216329             6020077   \n",
       "2019-08-02  770.48  10838336  8.350680e+14  227612             6835374   \n",
       "2019-08-05  777.83   9976238  7.759839e+14  281736             6166468   \n",
       "2019-08-06  776.57   9331718  7.246766e+14  199427             6512914   \n",
       "2019-08-07  778.99   5130457  3.996583e+14  157512             2955139   \n",
       "\n",
       "            %Deliverble  \n",
       "Date                     \n",
       "2019-08-01       0.5980  \n",
       "2019-08-02       0.6307  \n",
       "2019-08-05       0.6181  \n",
       "2019-08-06       0.6979  \n",
       "2019-08-07       0.5760  "
      ]
     },
     "execution_count": 90,
     "metadata": {},
     "output_type": "execute_result"
    }
   ],
   "source": [
    "from nsepy import get_history\n",
    "from datetime import datetime\n",
    "\n",
    "startDate=datetime(2019, 8,1)\n",
    "endDate=datetime(2020, 7, 31)\n",
    "\n",
    "# Fetching the data\n",
    "StockData1=get_history(symbol='INFY', start=startDate, end=endDate)\n",
    "print(StockData1.shape)\n",
    "StockData1.head()"
   ]
  },
  {
   "cell_type": "code",
   "execution_count": 91,
   "metadata": {},
   "outputs": [
    {
     "data": {
      "text/html": [
       "<div>\n",
       "<style scoped>\n",
       "    .dataframe tbody tr th:only-of-type {\n",
       "        vertical-align: middle;\n",
       "    }\n",
       "\n",
       "    .dataframe tbody tr th {\n",
       "        vertical-align: top;\n",
       "    }\n",
       "\n",
       "    .dataframe thead th {\n",
       "        text-align: right;\n",
       "    }\n",
       "</style>\n",
       "<table border=\"1\" class=\"dataframe\">\n",
       "  <thead>\n",
       "    <tr style=\"text-align: right;\">\n",
       "      <th></th>\n",
       "      <th>Symbol</th>\n",
       "      <th>Series</th>\n",
       "      <th>Prev Close</th>\n",
       "      <th>Open</th>\n",
       "      <th>High</th>\n",
       "      <th>Low</th>\n",
       "      <th>Last</th>\n",
       "      <th>Close</th>\n",
       "      <th>VWAP</th>\n",
       "      <th>Volume</th>\n",
       "      <th>Turnover</th>\n",
       "      <th>Trades</th>\n",
       "      <th>Deliverable Volume</th>\n",
       "      <th>%Deliverble</th>\n",
       "      <th>TradeDate</th>\n",
       "    </tr>\n",
       "    <tr>\n",
       "      <th>Date</th>\n",
       "      <th></th>\n",
       "      <th></th>\n",
       "      <th></th>\n",
       "      <th></th>\n",
       "      <th></th>\n",
       "      <th></th>\n",
       "      <th></th>\n",
       "      <th></th>\n",
       "      <th></th>\n",
       "      <th></th>\n",
       "      <th></th>\n",
       "      <th></th>\n",
       "      <th></th>\n",
       "      <th></th>\n",
       "      <th></th>\n",
       "    </tr>\n",
       "  </thead>\n",
       "  <tbody>\n",
       "    <tr>\n",
       "      <th>2020-07-27</th>\n",
       "      <td>INFY</td>\n",
       "      <td>EQ</td>\n",
       "      <td>922.85</td>\n",
       "      <td>921.55</td>\n",
       "      <td>952.80</td>\n",
       "      <td>918.65</td>\n",
       "      <td>947.15</td>\n",
       "      <td>948.45</td>\n",
       "      <td>939.16</td>\n",
       "      <td>16828218</td>\n",
       "      <td>1.580444e+15</td>\n",
       "      <td>278528</td>\n",
       "      <td>5906860</td>\n",
       "      <td>0.3510</td>\n",
       "      <td>2020-07-27</td>\n",
       "    </tr>\n",
       "    <tr>\n",
       "      <th>2020-07-28</th>\n",
       "      <td>INFY</td>\n",
       "      <td>EQ</td>\n",
       "      <td>948.45</td>\n",
       "      <td>946.00</td>\n",
       "      <td>967.55</td>\n",
       "      <td>941.20</td>\n",
       "      <td>960.60</td>\n",
       "      <td>962.85</td>\n",
       "      <td>953.58</td>\n",
       "      <td>15819466</td>\n",
       "      <td>1.508506e+15</td>\n",
       "      <td>220010</td>\n",
       "      <td>5480184</td>\n",
       "      <td>0.3464</td>\n",
       "      <td>2020-07-28</td>\n",
       "    </tr>\n",
       "    <tr>\n",
       "      <th>2020-07-29</th>\n",
       "      <td>INFY</td>\n",
       "      <td>EQ</td>\n",
       "      <td>962.85</td>\n",
       "      <td>953.25</td>\n",
       "      <td>960.00</td>\n",
       "      <td>943.60</td>\n",
       "      <td>951.95</td>\n",
       "      <td>954.15</td>\n",
       "      <td>952.22</td>\n",
       "      <td>11152710</td>\n",
       "      <td>1.061982e+15</td>\n",
       "      <td>212215</td>\n",
       "      <td>4338542</td>\n",
       "      <td>0.3890</td>\n",
       "      <td>2020-07-29</td>\n",
       "    </tr>\n",
       "    <tr>\n",
       "      <th>2020-07-30</th>\n",
       "      <td>INFY</td>\n",
       "      <td>EQ</td>\n",
       "      <td>954.15</td>\n",
       "      <td>962.00</td>\n",
       "      <td>972.65</td>\n",
       "      <td>958.75</td>\n",
       "      <td>962.15</td>\n",
       "      <td>961.45</td>\n",
       "      <td>965.59</td>\n",
       "      <td>12492569</td>\n",
       "      <td>1.206274e+15</td>\n",
       "      <td>222807</td>\n",
       "      <td>5962965</td>\n",
       "      <td>0.4773</td>\n",
       "      <td>2020-07-30</td>\n",
       "    </tr>\n",
       "    <tr>\n",
       "      <th>2020-07-31</th>\n",
       "      <td>INFY</td>\n",
       "      <td>EQ</td>\n",
       "      <td>961.45</td>\n",
       "      <td>969.25</td>\n",
       "      <td>986.45</td>\n",
       "      <td>953.30</td>\n",
       "      <td>967.75</td>\n",
       "      <td>966.00</td>\n",
       "      <td>971.12</td>\n",
       "      <td>12704359</td>\n",
       "      <td>1.233742e+15</td>\n",
       "      <td>195979</td>\n",
       "      <td>3201880</td>\n",
       "      <td>0.2520</td>\n",
       "      <td>2020-07-31</td>\n",
       "    </tr>\n",
       "  </tbody>\n",
       "</table>\n",
       "</div>"
      ],
      "text/plain": [
       "           Symbol Series  Prev Close    Open    High     Low    Last   Close  \\\n",
       "Date                                                                           \n",
       "2020-07-27   INFY     EQ      922.85  921.55  952.80  918.65  947.15  948.45   \n",
       "2020-07-28   INFY     EQ      948.45  946.00  967.55  941.20  960.60  962.85   \n",
       "2020-07-29   INFY     EQ      962.85  953.25  960.00  943.60  951.95  954.15   \n",
       "2020-07-30   INFY     EQ      954.15  962.00  972.65  958.75  962.15  961.45   \n",
       "2020-07-31   INFY     EQ      961.45  969.25  986.45  953.30  967.75  966.00   \n",
       "\n",
       "              VWAP    Volume      Turnover  Trades  Deliverable Volume  \\\n",
       "Date                                                                     \n",
       "2020-07-27  939.16  16828218  1.580444e+15  278528             5906860   \n",
       "2020-07-28  953.58  15819466  1.508506e+15  220010             5480184   \n",
       "2020-07-29  952.22  11152710  1.061982e+15  212215             4338542   \n",
       "2020-07-30  965.59  12492569  1.206274e+15  222807             5962965   \n",
       "2020-07-31  971.12  12704359  1.233742e+15  195979             3201880   \n",
       "\n",
       "            %Deliverble   TradeDate  \n",
       "Date                                 \n",
       "2020-07-27       0.3510  2020-07-27  \n",
       "2020-07-28       0.3464  2020-07-28  \n",
       "2020-07-29       0.3890  2020-07-29  \n",
       "2020-07-30       0.4773  2020-07-30  \n",
       "2020-07-31       0.2520  2020-07-31  "
      ]
     },
     "execution_count": 91,
     "metadata": {},
     "output_type": "execute_result"
    }
   ],
   "source": [
    "StockData1['TradeDate']=StockData1.index\n",
    "StockData1.tail()"
   ]
  },
  {
   "cell_type": "code",
   "execution_count": 92,
   "metadata": {},
   "outputs": [
    {
     "data": {
      "text/plain": [
       "<matplotlib.axes._subplots.AxesSubplot at 0x13b69088>"
      ]
     },
     "execution_count": 92,
     "metadata": {},
     "output_type": "execute_result"
    },
    {
     "data": {
      "image/png": "[encoded data removed]",
      "text/plain": [
       "<Figure size 1440x432 with 1 Axes>"
      ]
     },
     "metadata": {
      "needs_background": "light"
     },
     "output_type": "display_data"
    }
   ],
   "source": [
    "%matplotlib inline\n",
    "StockData1.plot(x='TradeDate', y='Close', kind='line', figsize=(20,6), rot=20)"
   ]
  },
  {
   "cell_type": "code",
   "execution_count": 93,
   "metadata": {},
   "outputs": [
    {
     "data": {
      "text/plain": [
       "array([[768.85],\n",
       "       [775.6 ],\n",
       "       [776.7 ],\n",
       "       [774.45],\n",
       "       [776.1 ]])"
      ]
     },
     "execution_count": 93,
     "metadata": {},
     "output_type": "execute_result"
    }
   ],
   "source": [
    "FullData=StockData1[['Close']].values\n",
    "FullData[0:5]"
   ]
  },
  {
   "cell_type": "code",
   "execution_count": 94,
   "metadata": {},
   "outputs": [
    {
     "data": {
      "text/plain": [
       "array([[0.5514731 ],\n",
       "       [0.56682971],\n",
       "       [0.56933227],\n",
       "       [0.5642134 ],\n",
       "       [0.56796724]])"
      ]
     },
     "execution_count": 94,
     "metadata": {},
     "output_type": "execute_result"
    }
   ],
   "source": [
    "from sklearn.preprocessing import StandardScaler, MinMaxScaler\n",
    "sc=MinMaxScaler()\n",
    "\n",
    "DataScaler = sc.fit(FullData)\n",
    "X=DataScaler.transform(FullData)\n",
    "\n",
    "X[0:5]"
   ]
  },
  {
   "cell_type": "code",
   "execution_count": 95,
   "metadata": {},
   "outputs": [],
   "source": [
    "X_samples = list()\n",
    "y_samples = list()\n",
    "\n",
    "NumerOfRows = len(X)\n",
    "TimeSteps=10  \n",
    "\n",
    "for i in range(TimeSteps , NumerOfRows , 1):\n",
    "    x_sample = X[i-TimeSteps:i]\n",
    "    y_sample = X[i]\n",
    "    X_samples.append(x_sample)\n",
    "    y_samples.append(y_sample)"
   ]
  },
  {
   "cell_type": "code",
   "execution_count": 96,
   "metadata": {},
   "outputs": [
    {
     "data": {
      "text/plain": [
       "(236, 10, 1)"
      ]
     },
     "execution_count": 96,
     "metadata": {},
     "output_type": "execute_result"
    }
   ],
   "source": [
    "X_data=np.array(X_samples)\n",
    "X_data=X_data.reshape(X_data.shape[0],X_data.shape[1], 1)\n",
    "X_data.shape"
   ]
  },
  {
   "cell_type": "code",
   "execution_count": 97,
   "metadata": {},
   "outputs": [
    {
     "data": {
      "text/plain": [
       "(236, 1)"
      ]
     },
     "execution_count": 97,
     "metadata": {},
     "output_type": "execute_result"
    }
   ],
   "source": [
    "y_data=np.array(y_samples)\n",
    "y_data=y_data.reshape(y_data.shape[0], 1)\n",
    "y_data.shape"
   ]
  },
  {
   "cell_type": "code",
   "execution_count": 98,
   "metadata": {},
   "outputs": [],
   "source": [
    "TestingRecords=10\n",
    "\n",
    "X_train=X_data[:-TestingRecords]\n",
    "X_test=X_data[-TestingRecords:]\n",
    "y_train=y_data[:-TestingRecords]\n",
    "y_test=y_data[-TestingRecords:]"
   ]
  },
  {
   "cell_type": "code",
   "execution_count": 99,
   "metadata": {},
   "outputs": [
    {
     "name": "stdout",
     "output_type": "stream",
     "text": [
      "(226, 10, 1)\n",
      "(226, 1)\n",
      "(10, 10, 1)\n",
      "(10, 1)\n"
     ]
    }
   ],
   "source": [
    "print(X_train.shape)\n",
    "print(y_train.shape)\n",
    "print(X_test.shape)\n",
    "print(y_test.shape)"
   ]
  },
  {
   "cell_type": "code",
   "execution_count": 100,
   "metadata": {},
   "outputs": [
    {
     "name": "stdout",
     "output_type": "stream",
     "text": [
      "[[0.5514731 ]\n",
      " [0.56682971]\n",
      " [0.56933227]\n",
      " [0.5642134 ]\n",
      " [0.56796724]\n",
      " [0.59674667]\n",
      " [0.59924923]\n",
      " [0.54214538]\n",
      " [0.56500967]\n",
      " [0.56444091]] --> [0.57149357]\n",
      "[[0.56682971]\n",
      " [0.56933227]\n",
      " [0.5642134 ]\n",
      " [0.56796724]\n",
      " [0.59674667]\n",
      " [0.59924923]\n",
      " [0.54214538]\n",
      " [0.56500967]\n",
      " [0.56444091]\n",
      " [0.57149357]] --> [0.60584689]\n",
      "[[0.56933227]\n",
      " [0.5642134 ]\n",
      " [0.56796724]\n",
      " [0.59674667]\n",
      " [0.59924923]\n",
      " [0.54214538]\n",
      " [0.56500967]\n",
      " [0.56444091]\n",
      " [0.57149357]\n",
      " [0.60584689]] --> [0.62108975]\n",
      "[[0.5642134 ]\n",
      " [0.56796724]\n",
      " [0.59674667]\n",
      " [0.59924923]\n",
      " [0.54214538]\n",
      " [0.56500967]\n",
      " [0.56444091]\n",
      " [0.57149357]\n",
      " [0.60584689]\n",
      " [0.62108975]] --> [0.6125583]\n",
      "[[0.56796724]\n",
      " [0.59674667]\n",
      " [0.59924923]\n",
      " [0.54214538]\n",
      " [0.56500967]\n",
      " [0.56444091]\n",
      " [0.57149357]\n",
      " [0.60584689]\n",
      " [0.62108975]\n",
      " [0.6125583 ]] --> [0.62734615]\n"
     ]
    }
   ],
   "source": [
    "for inp, out in zip(X_train[0:5], y_train[0:5]):\n",
    "    print(inp,'-->', out)"
   ]
  },
  {
   "cell_type": "code",
   "execution_count": 101,
   "metadata": {},
   "outputs": [
    {
     "name": "stdout",
     "output_type": "stream",
     "text": [
      "Number of TimeSteps: 10\n",
      "Number of Features: 1\n"
     ]
    }
   ],
   "source": [
    "TimeSteps=X_train.shape[1]\n",
    "TotalFeatures=X_train.shape[2]\n",
    "print(\"Number of TimeSteps:\", TimeSteps)\n",
    "print(\"Number of Features:\", TotalFeatures)"
   ]
  },
  {
   "cell_type": "code",
   "execution_count": 102,
   "metadata": {},
   "outputs": [],
   "source": [
    "from keras.models import Sequential\n",
    "from keras.layers import Dense\n",
    "from keras.layers import LSTM\n",
    "\n",
    "regressor = Sequential()\n",
    "\n",
    "regressor.add(LSTM(units = 5, activation = 'relu', input_shape = (TimeSteps, TotalFeatures), return_sequences=True))\n",
    "\n",
    "\n",
    "regressor.add(LSTM(units = 5, activation = 'relu', input_shape = (TimeSteps, TotalFeatures), return_sequences=True))\n",
    "\n",
    "regressor.add(LSTM(units = 5, activation = 'relu', return_sequences=False ))\n",
    "\n",
    "\n",
    "regressor.add(Dense(units = 1))\n",
    "\n",
    "regressor.compile(optimizer = 'adam', loss = 'mean_squared_error')"
   ]
  },
  {
   "cell_type": "code",
   "execution_count": 103,
   "metadata": {},
   "outputs": [
    {
     "name": "stdout",
     "output_type": "stream",
     "text": [
      "Epoch 1/100\n",
      "33/33 [==============================] - 0s 13ms/step - loss: 0.1983\n",
      "Epoch 2/100\n",
      "33/33 [==============================] - 0s 13ms/step - loss: 0.1050\n",
      "Epoch 3/100\n",
      "33/33 [==============================] - 0s 15ms/step - loss: 0.0176\n",
      "Epoch 4/100\n",
      "33/33 [==============================] - 0s 14ms/step - loss: 0.0127\n",
      "Epoch 5/100\n",
      "33/33 [==============================] - 0s 13ms/step - loss: 0.0122\n",
      "Epoch 6/100\n",
      "33/33 [==============================] - 0s 13ms/step - loss: 0.0109\n",
      "Epoch 7/100\n",
      "33/33 [==============================] - 0s 13ms/step - loss: 0.0102\n",
      "Epoch 8/100\n",
      "33/33 [==============================] - 0s 13ms/step - loss: 0.0097\n",
      "Epoch 9/100\n",
      "33/33 [==============================] - 0s 13ms/step - loss: 0.0094\n",
      "Epoch 10/100\n",
      "33/33 [==============================] - 1s 18ms/step - loss: 0.0091\n",
      "Epoch 11/100\n",
      "33/33 [==============================] - 0s 14ms/step - loss: 0.0091\n",
      "Epoch 12/100\n",
      "33/33 [==============================] - 0s 13ms/step - loss: 0.0089\n",
      "Epoch 13/100\n",
      "33/33 [==============================] - 0s 12ms/step - loss: 0.0091\n",
      "Epoch 14/100\n",
      "33/33 [==============================] - 0s 14ms/step - loss: 0.0089\n",
      "Epoch 15/100\n",
      "33/33 [==============================] - 0s 15ms/step - loss: 0.0091\n",
      "Epoch 16/100\n",
      "33/33 [==============================] - 0s 15ms/step - loss: 0.0091\n",
      "Epoch 17/100\n",
      "33/33 [==============================] - 0s 14ms/step - loss: 0.0087\n",
      "Epoch 18/100\n",
      "33/33 [==============================] - 0s 13ms/step - loss: 0.0087\n",
      "Epoch 19/100\n",
      "33/33 [==============================] - 0s 13ms/step - loss: 0.0086\n",
      "Epoch 20/100\n",
      "33/33 [==============================] - 0s 12ms/step - loss: 0.0085\n",
      "Epoch 21/100\n",
      "33/33 [==============================] - 0s 14ms/step - loss: 0.0084\n",
      "Epoch 22/100\n",
      "33/33 [==============================] - 1s 18ms/step - loss: 0.0084\n",
      "Epoch 23/100\n",
      "33/33 [==============================] - 0s 12ms/step - loss: 0.0086\n",
      "Epoch 24/100\n",
      "33/33 [==============================] - 0s 13ms/step - loss: 0.0083\n",
      "Epoch 25/100\n",
      "33/33 [==============================] - 0s 12ms/step - loss: 0.0084\n",
      "Epoch 26/100\n",
      "33/33 [==============================] - 0s 15ms/step - loss: 0.0084\n",
      "Epoch 27/100\n",
      "33/33 [==============================] - 0s 14ms/step - loss: 0.0081\n",
      "Epoch 28/100\n",
      "33/33 [==============================] - 0s 14ms/step - loss: 0.0082\n",
      "Epoch 29/100\n",
      "33/33 [==============================] - 0s 15ms/step - loss: 0.0081\n",
      "Epoch 30/100\n",
      "33/33 [==============================] - 0s 14ms/step - loss: 0.0078\n",
      "Epoch 31/100\n",
      "33/33 [==============================] - 1s 15ms/step - loss: 0.0084\n",
      "Epoch 32/100\n",
      "33/33 [==============================] - 0s 15ms/step - loss: 0.0077\n",
      "Epoch 33/100\n",
      "33/33 [==============================] - 1s 19ms/step - loss: 0.0077\n",
      "Epoch 34/100\n",
      "33/33 [==============================] - 0s 14ms/step - loss: 0.0078\n",
      "Epoch 35/100\n",
      "33/33 [==============================] - 0s 15ms/step - loss: 0.0076\n",
      "Epoch 36/100\n",
      "33/33 [==============================] - 1s 17ms/step - loss: 0.0078\n",
      "Epoch 37/100\n",
      "33/33 [==============================] - 0s 13ms/step - loss: 0.0083\n",
      "Epoch 38/100\n",
      "33/33 [==============================] - 0s 14ms/step - loss: 0.0074\n",
      "Epoch 39/100\n",
      "33/33 [==============================] - 0s 15ms/step - loss: 0.0072\n",
      "Epoch 40/100\n",
      "33/33 [==============================] - 1s 17ms/step - loss: 0.0077\n",
      "Epoch 41/100\n",
      "33/33 [==============================] - 0s 14ms/step - loss: 0.0069\n",
      "Epoch 42/100\n",
      "33/33 [==============================] - 0s 13ms/step - loss: 0.0086\n",
      "Epoch 43/100\n",
      "33/33 [==============================] - 0s 14ms/step - loss: 0.0069\n",
      "Epoch 44/100\n",
      "33/33 [==============================] - 1s 18ms/step - loss: 0.0068\n",
      "Epoch 45/100\n",
      "33/33 [==============================] - 0s 14ms/step - loss: 0.0071\n",
      "Epoch 46/100\n",
      "33/33 [==============================] - 0s 13ms/step - loss: 0.0068\n",
      "Epoch 47/100\n",
      "33/33 [==============================] - 0s 13ms/step - loss: 0.0087\n",
      "Epoch 48/100\n",
      "33/33 [==============================] - 0s 13ms/step - loss: 0.0077\n",
      "Epoch 49/100\n",
      "33/33 [==============================] - 0s 13ms/step - loss: 0.0068\n",
      "Epoch 50/100\n",
      "33/33 [==============================] - 0s 13ms/step - loss: 0.0059\n",
      "Epoch 51/100\n",
      "33/33 [==============================] - 0s 13ms/step - loss: 0.0057\n",
      "Epoch 52/100\n",
      "33/33 [==============================] - 0s 13ms/step - loss: 0.0058\n",
      "Epoch 53/100\n",
      "33/33 [==============================] - 0s 14ms/step - loss: 0.0060\n",
      "Epoch 54/100\n",
      "33/33 [==============================] - 0s 14ms/step - loss: 0.0054\n",
      "Epoch 55/100\n",
      "33/33 [==============================] - 0s 15ms/step - loss: 0.0052\n",
      "Epoch 56/100\n",
      "33/33 [==============================] - 1s 17ms/step - loss: 0.0094\n",
      "Epoch 57/100\n",
      "33/33 [==============================] - 0s 14ms/step - loss: 0.0056\n",
      "Epoch 58/100\n",
      "33/33 [==============================] - 0s 14ms/step - loss: 0.0053\n",
      "Epoch 59/100\n",
      "33/33 [==============================] - 0s 13ms/step - loss: 0.0050\n",
      "Epoch 60/100\n",
      "33/33 [==============================] - 0s 14ms/step - loss: 0.0050\n",
      "Epoch 61/100\n",
      "33/33 [==============================] - 0s 13ms/step - loss: 0.0051\n",
      "Epoch 62/100\n",
      "33/33 [==============================] - 0s 13ms/step - loss: 0.0048\n",
      "Epoch 63/100\n",
      "33/33 [==============================] - 0s 14ms/step - loss: 0.0044\n",
      "Epoch 64/100\n",
      "33/33 [==============================] - 0s 13ms/step - loss: 0.0046\n",
      "Epoch 65/100\n",
      "33/33 [==============================] - 0s 14ms/step - loss: 0.0065\n",
      "Epoch 66/100\n",
      "33/33 [==============================] - 0s 15ms/step - loss: 0.0054\n",
      "Epoch 67/100\n",
      "33/33 [==============================] - 1s 18ms/step - loss: 0.0047\n",
      "Epoch 68/100\n",
      "33/33 [==============================] - 1s 15ms/step - loss: 0.0045\n",
      "Epoch 69/100\n",
      "33/33 [==============================] - 1s 16ms/step - loss: 0.0046\n",
      "Epoch 70/100\n",
      "33/33 [==============================] - 1s 17ms/step - loss: 0.0047\n",
      "Epoch 71/100\n",
      "33/33 [==============================] - 0s 14ms/step - loss: 0.0040\n",
      "Epoch 72/100\n",
      "33/33 [==============================] - 1s 17ms/step - loss: 0.0047\n",
      "Epoch 73/100\n",
      "33/33 [==============================] - 1s 17ms/step - loss: 0.0043\n",
      "Epoch 74/100\n",
      "33/33 [==============================] - 0s 15ms/step - loss: 0.0041\n",
      "Epoch 75/100\n",
      "33/33 [==============================] - 0s 11ms/step - loss: 0.0045\n",
      "Epoch 76/100\n",
      "33/33 [==============================] - 0s 13ms/step - loss: 0.0046\n",
      "Epoch 77/100\n",
      "33/33 [==============================] - 0s 14ms/step - loss: 0.0041\n",
      "Epoch 78/100\n",
      "33/33 [==============================] - 0s 15ms/step - loss: 0.0041\n",
      "Epoch 79/100\n",
      "33/33 [==============================] - 0s 11ms/step - loss: 0.0047\n",
      "Epoch 80/100\n",
      "33/33 [==============================] - 0s 12ms/step - loss: 0.0042\n",
      "Epoch 81/100\n",
      "33/33 [==============================] - 0s 13ms/step - loss: 0.0048\n",
      "Epoch 82/100\n",
      "33/33 [==============================] - 0s 13ms/step - loss: 0.0054\n",
      "Epoch 83/100\n",
      "33/33 [==============================] - 0s 14ms/step - loss: 0.0050\n",
      "Epoch 84/100\n",
      "33/33 [==============================] - 0s 14ms/step - loss: 0.0043\n",
      "Epoch 85/100\n",
      "33/33 [==============================] - 0s 15ms/step - loss: 0.0044\n",
      "Epoch 86/100\n",
      "33/33 [==============================] - 0s 13ms/step - loss: 0.0041\n",
      "Epoch 87/100\n",
      "33/33 [==============================] - 0s 12ms/step - loss: 0.0049\n",
      "Epoch 88/100\n",
      "33/33 [==============================] - 0s 11ms/step - loss: 0.0050\n",
      "Epoch 89/100\n",
      "33/33 [==============================] - 0s 13ms/step - loss: 0.0044\n",
      "Epoch 90/100\n",
      "33/33 [==============================] - 1s 16ms/step - loss: 0.0041\n",
      "Epoch 91/100\n",
      "33/33 [==============================] - 0s 12ms/step - loss: 0.0041\n",
      "Epoch 92/100\n",
      "33/33 [==============================] - 0s 11ms/step - loss: 0.0040\n",
      "Epoch 93/100\n",
      "33/33 [==============================] - 0s 13ms/step - loss: 0.0037\n",
      "Epoch 94/100\n",
      "33/33 [==============================] - 0s 15ms/step - loss: 0.0043\n",
      "Epoch 95/100\n",
      "33/33 [==============================] - 0s 14ms/step - loss: 0.0043\n",
      "Epoch 96/100\n",
      "33/33 [==============================] - 0s 14ms/step - loss: 0.0040\n",
      "Epoch 97/100\n",
      "33/33 [==============================] - 1s 16ms/step - loss: 0.0041\n",
      "Epoch 98/100\n",
      "33/33 [==============================] - 0s 14ms/step - loss: 0.0048\n",
      "Epoch 99/100\n",
      "33/33 [==============================] - 0s 15ms/step - loss: 0.0044\n",
      "Epoch 100/100\n",
      "33/33 [==============================] - 1s 15ms/step - loss: 0.0040\n",
      "############### Total Time Taken:  1 Minutes #############\n"
     ]
    }
   ],
   "source": [
    "import time\n",
    "StartTime=time.time()\n",
    "\n",
    "regressor.fit(X_train, y_train, batch_size = 7, epochs = 100)\n",
    "\n",
    "EndTime=time.time()\n",
    "print(\"############### Total Time Taken: \", round((EndTime-StartTime)/60), 'Minutes #############')"
   ]
  },
  {
   "cell_type": "code",
   "execution_count": 107,
   "metadata": {},
   "outputs": [
    {
     "data": {
      "text/plain": [
       "array([[ 879.07043],\n",
       "       [ 928.5044 ],\n",
       "       [ 975.8478 ],\n",
       "       [1005.965  ],\n",
       "       [1007.3672 ],\n",
       "       [ 991.87317],\n",
       "       [ 976.1571 ],\n",
       "       [ 952.8768 ],\n",
       "       [ 934.3079 ],\n",
       "       [ 946.12665]], dtype=float32)"
      ]
     },
     "execution_count": 107,
     "metadata": {},
     "output_type": "execute_result"
    }
   ],
   "source": [
    "predicted_Price = regressor.predict(X_test)\n",
    "predicted_Price = DataScaler.inverse_transform(predicted_Price)\n",
    "predicted_Price"
   ]
  },
  {
   "cell_type": "code",
   "execution_count": 108,
   "metadata": {},
   "outputs": [
    {
     "data": {
      "text/plain": [
       "array([[934.3 ],\n",
       "       [936.75],\n",
       "       [917.9 ],\n",
       "       [907.95],\n",
       "       [922.85],\n",
       "       [948.45],\n",
       "       [962.85],\n",
       "       [954.15],\n",
       "       [961.45],\n",
       "       [966.  ]])"
      ]
     },
     "execution_count": 108,
     "metadata": {},
     "output_type": "execute_result"
    }
   ],
   "source": [
    "orig=y_test\n",
    "orig=DataScaler.inverse_transform(y_test)\n",
    "orig"
   ]
  },
  {
   "cell_type": "code",
   "execution_count": 109,
   "metadata": {},
   "outputs": [
    {
     "data": {
      "text/plain": [
       "95.59677272963613"
      ]
     },
     "execution_count": 109,
     "metadata": {},
     "output_type": "execute_result"
    }
   ],
   "source": [
    "100 - (100*(abs(orig-predicted_Price)/orig)).mean()"
   ]
  },
  {
   "cell_type": "code",
   "execution_count": 110,
   "metadata": {},
   "outputs": [
    {
     "data": {
      "image/png": "[encoded data removed]",
      "text/plain": [
       "<Figure size 1440x432 with 1 Axes>"
      ]
     },
     "metadata": {
      "needs_background": "light"
     },
     "output_type": "display_data"
    }
   ],
   "source": [
    "import matplotlib.pyplot as plt\n",
    "\n",
    "plt.plot(predicted_Price, color = 'blue', label = 'Predicted Volume')\n",
    "plt.plot(orig, color = 'lightblue', label = 'Original Volume')\n",
    "\n",
    "plt.title('Stock Price Predictions')\n",
    "plt.xlabel('Trading Date')\n",
    "plt.xticks(range(TestingRecords), StockData.tail(TestingRecords)['TradeDate'])\n",
    "plt.ylabel('Stock Price')\n",
    "\n",
    "plt.legend()\n",
    "fig=plt.gcf()\n",
    "fig.set_figwidth(20)\n",
    "fig.set_figheight(6)\n",
    "plt.show()"
   ]
  },
  {
   "cell_type": "code",
   "execution_count": 111,
   "metadata": {},
   "outputs": [
    {
     "data": {
      "image/png": "[encoded data removed]",
      "text/plain": [
       "<Figure size 1440x576 with 1 Axes>"
      ]
     },
     "metadata": {
      "needs_background": "light"
     },
     "output_type": "display_data"
    }
   ],
   "source": [
    "TrainPredictions=DataScaler.inverse_transform(regressor.predict(X_train))\n",
    "TestPredictions=DataScaler.inverse_transform(regressor.predict(X_test))\n",
    "\n",
    "FullDataPredictions=np.append(TrainPredictions, TestPredictions)\n",
    "FullDataOrig=FullData[TimeSteps:]\n",
    "\n",
    "plt.plot(FullDataPredictions, color = 'blue', label = 'Predicted Price')\n",
    "plt.plot(FullDataOrig , color = 'lightblue', label = 'Original Price')\n",
    "\n",
    "\n",
    "plt.title('Stock Price Predictions')\n",
    "plt.xlabel('Trading Date')\n",
    "plt.ylabel('Stock Price')\n",
    "plt.legend()\n",
    "fig=plt.gcf()\n",
    "fig.set_figwidth(20)\n",
    "fig.set_figheight(8)\n",
    "plt.show()"
   ]
  },
  {
   "cell_type": "markdown",
   "metadata": {},
   "source": [
    "31st July 2020- Accuracy-95.59%"
   ]
  },
  {
   "cell_type": "code",
   "execution_count": null,
   "metadata": {},
   "outputs": [],
   "source": []
  },
  {
   "cell_type": "markdown",
   "metadata": {},
   "source": [
    "#### Date:- 03rd Aug 2020"
   ]
  },
  {
   "cell_type": "code",
   "execution_count": 112,
   "metadata": {},
   "outputs": [
    {
     "name": "stdout",
     "output_type": "stream",
     "text": [
      "(247, 14)\n"
     ]
    },
    {
     "data": {
      "text/html": [
       "<div>\n",
       "<style scoped>\n",
       "    .dataframe tbody tr th:only-of-type {\n",
       "        vertical-align: middle;\n",
       "    }\n",
       "\n",
       "    .dataframe tbody tr th {\n",
       "        vertical-align: top;\n",
       "    }\n",
       "\n",
       "    .dataframe thead th {\n",
       "        text-align: right;\n",
       "    }\n",
       "</style>\n",
       "<table border=\"1\" class=\"dataframe\">\n",
       "  <thead>\n",
       "    <tr style=\"text-align: right;\">\n",
       "      <th></th>\n",
       "      <th>Symbol</th>\n",
       "      <th>Series</th>\n",
       "      <th>Prev Close</th>\n",
       "      <th>Open</th>\n",
       "      <th>High</th>\n",
       "      <th>Low</th>\n",
       "      <th>Last</th>\n",
       "      <th>Close</th>\n",
       "      <th>VWAP</th>\n",
       "      <th>Volume</th>\n",
       "      <th>Turnover</th>\n",
       "      <th>Trades</th>\n",
       "      <th>Deliverable Volume</th>\n",
       "      <th>%Deliverble</th>\n",
       "    </tr>\n",
       "    <tr>\n",
       "      <th>Date</th>\n",
       "      <th></th>\n",
       "      <th></th>\n",
       "      <th></th>\n",
       "      <th></th>\n",
       "      <th></th>\n",
       "      <th></th>\n",
       "      <th></th>\n",
       "      <th></th>\n",
       "      <th></th>\n",
       "      <th></th>\n",
       "      <th></th>\n",
       "      <th></th>\n",
       "      <th></th>\n",
       "      <th></th>\n",
       "    </tr>\n",
       "  </thead>\n",
       "  <tbody>\n",
       "    <tr>\n",
       "      <th>2020-07-28</th>\n",
       "      <td>INFY</td>\n",
       "      <td>EQ</td>\n",
       "      <td>948.45</td>\n",
       "      <td>946.00</td>\n",
       "      <td>967.55</td>\n",
       "      <td>941.20</td>\n",
       "      <td>960.60</td>\n",
       "      <td>962.85</td>\n",
       "      <td>953.58</td>\n",
       "      <td>15819466</td>\n",
       "      <td>1.508506e+15</td>\n",
       "      <td>220010</td>\n",
       "      <td>5480184</td>\n",
       "      <td>0.3464</td>\n",
       "    </tr>\n",
       "    <tr>\n",
       "      <th>2020-07-29</th>\n",
       "      <td>INFY</td>\n",
       "      <td>EQ</td>\n",
       "      <td>962.85</td>\n",
       "      <td>953.25</td>\n",
       "      <td>960.00</td>\n",
       "      <td>943.60</td>\n",
       "      <td>951.95</td>\n",
       "      <td>954.15</td>\n",
       "      <td>952.22</td>\n",
       "      <td>11152710</td>\n",
       "      <td>1.061982e+15</td>\n",
       "      <td>212215</td>\n",
       "      <td>4338542</td>\n",
       "      <td>0.3890</td>\n",
       "    </tr>\n",
       "    <tr>\n",
       "      <th>2020-07-30</th>\n",
       "      <td>INFY</td>\n",
       "      <td>EQ</td>\n",
       "      <td>954.15</td>\n",
       "      <td>962.00</td>\n",
       "      <td>972.65</td>\n",
       "      <td>958.75</td>\n",
       "      <td>962.15</td>\n",
       "      <td>961.45</td>\n",
       "      <td>965.59</td>\n",
       "      <td>12492569</td>\n",
       "      <td>1.206274e+15</td>\n",
       "      <td>222807</td>\n",
       "      <td>5962965</td>\n",
       "      <td>0.4773</td>\n",
       "    </tr>\n",
       "    <tr>\n",
       "      <th>2020-07-31</th>\n",
       "      <td>INFY</td>\n",
       "      <td>EQ</td>\n",
       "      <td>961.45</td>\n",
       "      <td>969.25</td>\n",
       "      <td>986.45</td>\n",
       "      <td>953.30</td>\n",
       "      <td>967.75</td>\n",
       "      <td>966.00</td>\n",
       "      <td>971.12</td>\n",
       "      <td>12704359</td>\n",
       "      <td>1.233742e+15</td>\n",
       "      <td>195979</td>\n",
       "      <td>3201880</td>\n",
       "      <td>0.2520</td>\n",
       "    </tr>\n",
       "    <tr>\n",
       "      <th>2020-08-03</th>\n",
       "      <td>INFY</td>\n",
       "      <td>EQ</td>\n",
       "      <td>966.00</td>\n",
       "      <td>960.00</td>\n",
       "      <td>965.40</td>\n",
       "      <td>947.45</td>\n",
       "      <td>955.30</td>\n",
       "      <td>956.90</td>\n",
       "      <td>954.94</td>\n",
       "      <td>8480166</td>\n",
       "      <td>8.098077e+14</td>\n",
       "      <td>164566</td>\n",
       "      <td>4108547</td>\n",
       "      <td>0.4845</td>\n",
       "    </tr>\n",
       "  </tbody>\n",
       "</table>\n",
       "</div>"
      ],
      "text/plain": [
       "           Symbol Series  Prev Close    Open    High     Low    Last   Close  \\\n",
       "Date                                                                           \n",
       "2020-07-28   INFY     EQ      948.45  946.00  967.55  941.20  960.60  962.85   \n",
       "2020-07-29   INFY     EQ      962.85  953.25  960.00  943.60  951.95  954.15   \n",
       "2020-07-30   INFY     EQ      954.15  962.00  972.65  958.75  962.15  961.45   \n",
       "2020-07-31   INFY     EQ      961.45  969.25  986.45  953.30  967.75  966.00   \n",
       "2020-08-03   INFY     EQ      966.00  960.00  965.40  947.45  955.30  956.90   \n",
       "\n",
       "              VWAP    Volume      Turnover  Trades  Deliverable Volume  \\\n",
       "Date                                                                     \n",
       "2020-07-28  953.58  15819466  1.508506e+15  220010             5480184   \n",
       "2020-07-29  952.22  11152710  1.061982e+15  212215             4338542   \n",
       "2020-07-30  965.59  12492569  1.206274e+15  222807             5962965   \n",
       "2020-07-31  971.12  12704359  1.233742e+15  195979             3201880   \n",
       "2020-08-03  954.94   8480166  8.098077e+14  164566             4108547   \n",
       "\n",
       "            %Deliverble  \n",
       "Date                     \n",
       "2020-07-28       0.3464  \n",
       "2020-07-29       0.3890  \n",
       "2020-07-30       0.4773  \n",
       "2020-07-31       0.2520  \n",
       "2020-08-03       0.4845  "
      ]
     },
     "execution_count": 112,
     "metadata": {},
     "output_type": "execute_result"
    }
   ],
   "source": [
    "from nsepy import get_history\n",
    "from datetime import datetime\n",
    "\n",
    "startDate=datetime(2019, 8,1)\n",
    "endDate=datetime(2020, 8,3)\n",
    "\n",
    "# Fetching the data\n",
    "StockData=get_history(symbol='INFY', start=startDate, end=endDate)\n",
    "print(StockData.shape)\n",
    "StockData.tail()"
   ]
  },
  {
   "cell_type": "code",
   "execution_count": 113,
   "metadata": {},
   "outputs": [
    {
     "data": {
      "text/html": [
       "<div>\n",
       "<style scoped>\n",
       "    .dataframe tbody tr th:only-of-type {\n",
       "        vertical-align: middle;\n",
       "    }\n",
       "\n",
       "    .dataframe tbody tr th {\n",
       "        vertical-align: top;\n",
       "    }\n",
       "\n",
       "    .dataframe thead th {\n",
       "        text-align: right;\n",
       "    }\n",
       "</style>\n",
       "<table border=\"1\" class=\"dataframe\">\n",
       "  <thead>\n",
       "    <tr style=\"text-align: right;\">\n",
       "      <th></th>\n",
       "      <th>Symbol</th>\n",
       "      <th>Series</th>\n",
       "      <th>Prev Close</th>\n",
       "      <th>Open</th>\n",
       "      <th>High</th>\n",
       "      <th>Low</th>\n",
       "      <th>Last</th>\n",
       "      <th>Close</th>\n",
       "      <th>VWAP</th>\n",
       "      <th>Volume</th>\n",
       "      <th>Turnover</th>\n",
       "      <th>Trades</th>\n",
       "      <th>Deliverable Volume</th>\n",
       "      <th>%Deliverble</th>\n",
       "      <th>TradeDate</th>\n",
       "    </tr>\n",
       "    <tr>\n",
       "      <th>Date</th>\n",
       "      <th></th>\n",
       "      <th></th>\n",
       "      <th></th>\n",
       "      <th></th>\n",
       "      <th></th>\n",
       "      <th></th>\n",
       "      <th></th>\n",
       "      <th></th>\n",
       "      <th></th>\n",
       "      <th></th>\n",
       "      <th></th>\n",
       "      <th></th>\n",
       "      <th></th>\n",
       "      <th></th>\n",
       "      <th></th>\n",
       "    </tr>\n",
       "  </thead>\n",
       "  <tbody>\n",
       "    <tr>\n",
       "      <th>2020-07-28</th>\n",
       "      <td>INFY</td>\n",
       "      <td>EQ</td>\n",
       "      <td>948.45</td>\n",
       "      <td>946.00</td>\n",
       "      <td>967.55</td>\n",
       "      <td>941.20</td>\n",
       "      <td>960.60</td>\n",
       "      <td>962.85</td>\n",
       "      <td>953.58</td>\n",
       "      <td>15819466</td>\n",
       "      <td>1.508506e+15</td>\n",
       "      <td>220010</td>\n",
       "      <td>5480184</td>\n",
       "      <td>0.3464</td>\n",
       "      <td>2020-07-28</td>\n",
       "    </tr>\n",
       "    <tr>\n",
       "      <th>2020-07-29</th>\n",
       "      <td>INFY</td>\n",
       "      <td>EQ</td>\n",
       "      <td>962.85</td>\n",
       "      <td>953.25</td>\n",
       "      <td>960.00</td>\n",
       "      <td>943.60</td>\n",
       "      <td>951.95</td>\n",
       "      <td>954.15</td>\n",
       "      <td>952.22</td>\n",
       "      <td>11152710</td>\n",
       "      <td>1.061982e+15</td>\n",
       "      <td>212215</td>\n",
       "      <td>4338542</td>\n",
       "      <td>0.3890</td>\n",
       "      <td>2020-07-29</td>\n",
       "    </tr>\n",
       "    <tr>\n",
       "      <th>2020-07-30</th>\n",
       "      <td>INFY</td>\n",
       "      <td>EQ</td>\n",
       "      <td>954.15</td>\n",
       "      <td>962.00</td>\n",
       "      <td>972.65</td>\n",
       "      <td>958.75</td>\n",
       "      <td>962.15</td>\n",
       "      <td>961.45</td>\n",
       "      <td>965.59</td>\n",
       "      <td>12492569</td>\n",
       "      <td>1.206274e+15</td>\n",
       "      <td>222807</td>\n",
       "      <td>5962965</td>\n",
       "      <td>0.4773</td>\n",
       "      <td>2020-07-30</td>\n",
       "    </tr>\n",
       "    <tr>\n",
       "      <th>2020-07-31</th>\n",
       "      <td>INFY</td>\n",
       "      <td>EQ</td>\n",
       "      <td>961.45</td>\n",
       "      <td>969.25</td>\n",
       "      <td>986.45</td>\n",
       "      <td>953.30</td>\n",
       "      <td>967.75</td>\n",
       "      <td>966.00</td>\n",
       "      <td>971.12</td>\n",
       "      <td>12704359</td>\n",
       "      <td>1.233742e+15</td>\n",
       "      <td>195979</td>\n",
       "      <td>3201880</td>\n",
       "      <td>0.2520</td>\n",
       "      <td>2020-07-31</td>\n",
       "    </tr>\n",
       "    <tr>\n",
       "      <th>2020-08-03</th>\n",
       "      <td>INFY</td>\n",
       "      <td>EQ</td>\n",
       "      <td>966.00</td>\n",
       "      <td>960.00</td>\n",
       "      <td>965.40</td>\n",
       "      <td>947.45</td>\n",
       "      <td>955.30</td>\n",
       "      <td>956.90</td>\n",
       "      <td>954.94</td>\n",
       "      <td>8480166</td>\n",
       "      <td>8.098077e+14</td>\n",
       "      <td>164566</td>\n",
       "      <td>4108547</td>\n",
       "      <td>0.4845</td>\n",
       "      <td>2020-08-03</td>\n",
       "    </tr>\n",
       "  </tbody>\n",
       "</table>\n",
       "</div>"
      ],
      "text/plain": [
       "           Symbol Series  Prev Close    Open    High     Low    Last   Close  \\\n",
       "Date                                                                           \n",
       "2020-07-28   INFY     EQ      948.45  946.00  967.55  941.20  960.60  962.85   \n",
       "2020-07-29   INFY     EQ      962.85  953.25  960.00  943.60  951.95  954.15   \n",
       "2020-07-30   INFY     EQ      954.15  962.00  972.65  958.75  962.15  961.45   \n",
       "2020-07-31   INFY     EQ      961.45  969.25  986.45  953.30  967.75  966.00   \n",
       "2020-08-03   INFY     EQ      966.00  960.00  965.40  947.45  955.30  956.90   \n",
       "\n",
       "              VWAP    Volume      Turnover  Trades  Deliverable Volume  \\\n",
       "Date                                                                     \n",
       "2020-07-28  953.58  15819466  1.508506e+15  220010             5480184   \n",
       "2020-07-29  952.22  11152710  1.061982e+15  212215             4338542   \n",
       "2020-07-30  965.59  12492569  1.206274e+15  222807             5962965   \n",
       "2020-07-31  971.12  12704359  1.233742e+15  195979             3201880   \n",
       "2020-08-03  954.94   8480166  8.098077e+14  164566             4108547   \n",
       "\n",
       "            %Deliverble   TradeDate  \n",
       "Date                                 \n",
       "2020-07-28       0.3464  2020-07-28  \n",
       "2020-07-29       0.3890  2020-07-29  \n",
       "2020-07-30       0.4773  2020-07-30  \n",
       "2020-07-31       0.2520  2020-07-31  \n",
       "2020-08-03       0.4845  2020-08-03  "
      ]
     },
     "execution_count": 113,
     "metadata": {},
     "output_type": "execute_result"
    }
   ],
   "source": [
    "StockData['TradeDate']=StockData.index\n",
    "StockData.tail()"
   ]
  },
  {
   "cell_type": "code",
   "execution_count": 114,
   "metadata": {},
   "outputs": [
    {
     "data": {
      "text/plain": [
       "<matplotlib.axes._subplots.AxesSubplot at 0x13c78348>"
      ]
     },
     "execution_count": 114,
     "metadata": {},
     "output_type": "execute_result"
    },
    {
     "data": {
      "image/png": "[encoded data removed]",
      "text/plain": [
       "<Figure size 1440x432 with 1 Axes>"
      ]
     },
     "metadata": {
      "needs_background": "light"
     },
     "output_type": "display_data"
    }
   ],
   "source": [
    "%matplotlib inline\n",
    "StockData.plot(x='TradeDate', y='Close', kind='line', figsize=(20,6), rot=20)"
   ]
  },
  {
   "cell_type": "code",
   "execution_count": 115,
   "metadata": {},
   "outputs": [
    {
     "data": {
      "text/plain": [
       "array([[768.85],\n",
       "       [775.6 ],\n",
       "       [776.7 ],\n",
       "       [774.45],\n",
       "       [776.1 ]])"
      ]
     },
     "execution_count": 115,
     "metadata": {},
     "output_type": "execute_result"
    }
   ],
   "source": [
    "FullData=StockData[['Close']].values\n",
    "FullData[0:5]"
   ]
  },
  {
   "cell_type": "code",
   "execution_count": 116,
   "metadata": {},
   "outputs": [
    {
     "data": {
      "text/plain": [
       "array([[0.5514731 ],\n",
       "       [0.56682971],\n",
       "       [0.56933227],\n",
       "       [0.5642134 ],\n",
       "       [0.56796724]])"
      ]
     },
     "execution_count": 116,
     "metadata": {},
     "output_type": "execute_result"
    }
   ],
   "source": [
    "from sklearn.preprocessing import StandardScaler, MinMaxScaler\n",
    "sc=MinMaxScaler()\n",
    "\n",
    "DataScaler = sc.fit(FullData)\n",
    "X=DataScaler.transform(FullData)\n",
    "\n",
    "X[0:5]"
   ]
  },
  {
   "cell_type": "code",
   "execution_count": 117,
   "metadata": {},
   "outputs": [],
   "source": [
    "X_samples = list()\n",
    "y_samples = list()\n",
    "\n",
    "NumerOfRows = len(X)\n",
    "TimeSteps=10  \n",
    "\n",
    "for i in range(TimeSteps , NumerOfRows , 1):\n",
    "    x_sample = X[i-TimeSteps:i]\n",
    "    y_sample = X[i]\n",
    "    X_samples.append(x_sample)\n",
    "    y_samples.append(y_sample)"
   ]
  },
  {
   "cell_type": "code",
   "execution_count": 118,
   "metadata": {},
   "outputs": [
    {
     "data": {
      "text/plain": [
       "(237, 10, 1)"
      ]
     },
     "execution_count": 118,
     "metadata": {},
     "output_type": "execute_result"
    }
   ],
   "source": [
    "X_data=np.array(X_samples)\n",
    "X_data=X_data.reshape(X_data.shape[0],X_data.shape[1], 1)\n",
    "X_data.shape"
   ]
  },
  {
   "cell_type": "code",
   "execution_count": 119,
   "metadata": {},
   "outputs": [
    {
     "data": {
      "text/plain": [
       "(237, 1)"
      ]
     },
     "execution_count": 119,
     "metadata": {},
     "output_type": "execute_result"
    }
   ],
   "source": [
    "y_data=np.array(y_samples)\n",
    "y_data=y_data.reshape(y_data.shape[0], 1)\n",
    "y_data.shape"
   ]
  },
  {
   "cell_type": "code",
   "execution_count": 120,
   "metadata": {},
   "outputs": [],
   "source": [
    "TestingRecords=10\n",
    "\n",
    "X_train=X_data[:-TestingRecords]\n",
    "X_test=X_data[-TestingRecords:]\n",
    "y_train=y_data[:-TestingRecords]\n",
    "y_test=y_data[-TestingRecords:]"
   ]
  },
  {
   "cell_type": "code",
   "execution_count": 121,
   "metadata": {},
   "outputs": [
    {
     "name": "stdout",
     "output_type": "stream",
     "text": [
      "(227, 10, 1)\n",
      "(227, 1)\n",
      "(10, 10, 1)\n",
      "(10, 1)\n"
     ]
    }
   ],
   "source": [
    "print(X_train.shape)\n",
    "print(y_train.shape)\n",
    "print(X_test.shape)\n",
    "print(y_test.shape)"
   ]
  },
  {
   "cell_type": "code",
   "execution_count": 122,
   "metadata": {},
   "outputs": [
    {
     "name": "stdout",
     "output_type": "stream",
     "text": [
      "[[0.5514731 ]\n",
      " [0.56682971]\n",
      " [0.56933227]\n",
      " [0.5642134 ]\n",
      " [0.56796724]\n",
      " [0.59674667]\n",
      " [0.59924923]\n",
      " [0.54214538]\n",
      " [0.56500967]\n",
      " [0.56444091]] --> [0.57149357]\n",
      "[[0.56682971]\n",
      " [0.56933227]\n",
      " [0.5642134 ]\n",
      " [0.56796724]\n",
      " [0.59674667]\n",
      " [0.59924923]\n",
      " [0.54214538]\n",
      " [0.56500967]\n",
      " [0.56444091]\n",
      " [0.57149357]] --> [0.60584689]\n",
      "[[0.56933227]\n",
      " [0.5642134 ]\n",
      " [0.56796724]\n",
      " [0.59674667]\n",
      " [0.59924923]\n",
      " [0.54214538]\n",
      " [0.56500967]\n",
      " [0.56444091]\n",
      " [0.57149357]\n",
      " [0.60584689]] --> [0.62108975]\n",
      "[[0.5642134 ]\n",
      " [0.56796724]\n",
      " [0.59674667]\n",
      " [0.59924923]\n",
      " [0.54214538]\n",
      " [0.56500967]\n",
      " [0.56444091]\n",
      " [0.57149357]\n",
      " [0.60584689]\n",
      " [0.62108975]] --> [0.6125583]\n",
      "[[0.56796724]\n",
      " [0.59674667]\n",
      " [0.59924923]\n",
      " [0.54214538]\n",
      " [0.56500967]\n",
      " [0.56444091]\n",
      " [0.57149357]\n",
      " [0.60584689]\n",
      " [0.62108975]\n",
      " [0.6125583 ]] --> [0.62734615]\n"
     ]
    }
   ],
   "source": [
    "for inp, out in zip(X_train[0:5], y_train[0:5]):\n",
    "    print(inp,'-->', out)"
   ]
  },
  {
   "cell_type": "code",
   "execution_count": 123,
   "metadata": {},
   "outputs": [
    {
     "name": "stdout",
     "output_type": "stream",
     "text": [
      "Number of TimeSteps: 10\n",
      "Number of Features: 1\n"
     ]
    }
   ],
   "source": [
    "TimeSteps=X_train.shape[1]\n",
    "TotalFeatures=X_train.shape[2]\n",
    "print(\"Number of TimeSteps:\", TimeSteps)\n",
    "print(\"Number of Features:\", TotalFeatures)"
   ]
  },
  {
   "cell_type": "code",
   "execution_count": 124,
   "metadata": {},
   "outputs": [],
   "source": [
    "from keras.models import Sequential\n",
    "from keras.layers import Dense\n",
    "from keras.layers import LSTM\n",
    "\n",
    "regressor = Sequential()\n",
    "\n",
    "regressor.add(LSTM(units = 4, activation = 'relu', input_shape = (TimeSteps, TotalFeatures), return_sequences=True))\n",
    "\n",
    "\n",
    "regressor.add(LSTM(units = 5, activation = 'relu', input_shape = (TimeSteps, TotalFeatures), return_sequences=True))\n",
    "\n",
    "regressor.add(LSTM(units = 5, activation = 'relu', return_sequences=False ))\n",
    "\n",
    "\n",
    "regressor.add(Dense(units = 1))\n",
    "\n",
    "regressor.compile(optimizer = 'adam', loss = 'mean_squared_error')"
   ]
  },
  {
   "cell_type": "code",
   "execution_count": 125,
   "metadata": {},
   "outputs": [
    {
     "name": "stdout",
     "output_type": "stream",
     "text": [
      "Epoch 1/100\n",
      "29/29 [==============================] - 0s 12ms/step - loss: 0.2131\n",
      "Epoch 2/100\n",
      "29/29 [==============================] - 1s 18ms/step - loss: 0.1690\n",
      "Epoch 3/100\n",
      "29/29 [==============================] - 0s 14ms/step - loss: 0.1184\n",
      "Epoch 4/100\n",
      "29/29 [==============================] - 0s 12ms/step - loss: 0.0515\n",
      "Epoch 5/100\n",
      "29/29 [==============================] - 0s 15ms/step - loss: 0.0167\n",
      "Epoch 6/100\n",
      "29/29 [==============================] - 0s 15ms/step - loss: 0.0146\n",
      "Epoch 7/100\n",
      "29/29 [==============================] - 0s 14ms/step - loss: 0.0138\n",
      "Epoch 8/100\n",
      "29/29 [==============================] - 0s 16ms/step - loss: 0.0130: 0s - loss: 0.\n",
      "Epoch 9/100\n",
      "29/29 [==============================] - 0s 12ms/step - loss: 0.0124\n",
      "Epoch 10/100\n",
      "29/29 [==============================] - 0s 12ms/step - loss: 0.0122\n",
      "Epoch 11/100\n",
      "29/29 [==============================] - 0s 13ms/step - loss: 0.0112\n",
      "Epoch 12/100\n",
      "29/29 [==============================] - 0s 12ms/step - loss: 0.0108\n",
      "Epoch 13/100\n",
      "29/29 [==============================] - 0s 13ms/step - loss: 0.0105\n",
      "Epoch 14/100\n",
      "29/29 [==============================] - 0s 13ms/step - loss: 0.0102\n",
      "Epoch 15/100\n",
      "29/29 [==============================] - 0s 13ms/step - loss: 0.0100\n",
      "Epoch 16/100\n",
      "29/29 [==============================] - 0s 16ms/step - loss: 0.0103\n",
      "Epoch 17/100\n",
      "29/29 [==============================] - 0s 13ms/step - loss: 0.0099\n",
      "Epoch 18/100\n",
      "29/29 [==============================] - 0s 13ms/step - loss: 0.0097\n",
      "Epoch 19/100\n",
      "29/29 [==============================] - 0s 13ms/step - loss: 0.0099\n",
      "Epoch 20/100\n",
      "29/29 [==============================] - 0s 13ms/step - loss: 0.0098\n",
      "Epoch 21/100\n",
      "29/29 [==============================] - 0s 13ms/step - loss: 0.0097\n",
      "Epoch 22/100\n",
      "29/29 [==============================] - 0s 14ms/step - loss: 0.0097\n",
      "Epoch 23/100\n",
      "29/29 [==============================] - 0s 13ms/step - loss: 0.0097\n",
      "Epoch 24/100\n",
      "29/29 [==============================] - 0s 12ms/step - loss: 0.0096\n",
      "Epoch 25/100\n",
      "29/29 [==============================] - 0s 13ms/step - loss: 0.0098\n",
      "Epoch 26/100\n",
      "29/29 [==============================] - 0s 13ms/step - loss: 0.0097\n",
      "Epoch 27/100\n",
      "29/29 [==============================] - 0s 17ms/step - loss: 0.0097\n",
      "Epoch 28/100\n",
      "29/29 [==============================] - 1s 17ms/step - loss: 0.0096\n",
      "Epoch 29/100\n",
      "29/29 [==============================] - 0s 17ms/step - loss: 0.0096\n",
      "Epoch 30/100\n",
      "29/29 [==============================] - 0s 13ms/step - loss: 0.0098\n",
      "Epoch 31/100\n",
      "29/29 [==============================] - 0s 14ms/step - loss: 0.0099\n",
      "Epoch 32/100\n",
      "29/29 [==============================] - 0s 13ms/step - loss: 0.0095\n",
      "Epoch 33/100\n",
      "29/29 [==============================] - 0s 12ms/step - loss: 0.0098\n",
      "Epoch 34/100\n",
      "29/29 [==============================] - 0s 15ms/step - loss: 0.0096\n",
      "Epoch 35/100\n",
      "29/29 [==============================] - 0s 12ms/step - loss: 0.0096\n",
      "Epoch 36/100\n",
      "29/29 [==============================] - 0s 13ms/step - loss: 0.0096\n",
      "Epoch 37/100\n",
      "29/29 [==============================] - 0s 13ms/step - loss: 0.0094\n",
      "Epoch 38/100\n",
      "29/29 [==============================] - 0s 13ms/step - loss: 0.0098\n",
      "Epoch 39/100\n",
      "29/29 [==============================] - 0s 13ms/step - loss: 0.0098\n",
      "Epoch 40/100\n",
      "29/29 [==============================] - 0s 13ms/step - loss: 0.0093\n",
      "Epoch 41/100\n",
      "29/29 [==============================] - 0s 12ms/step - loss: 0.0094\n",
      "Epoch 42/100\n",
      "29/29 [==============================] - 0s 15ms/step - loss: 0.0095\n",
      "Epoch 43/100\n",
      "29/29 [==============================] - 0s 15ms/step - loss: 0.0094\n",
      "Epoch 44/100\n",
      "29/29 [==============================] - 0s 13ms/step - loss: 0.0094\n",
      "Epoch 45/100\n",
      "29/29 [==============================] - 0s 12ms/step - loss: 0.0095\n",
      "Epoch 46/100\n",
      "29/29 [==============================] - 0s 14ms/step - loss: 0.0094\n",
      "Epoch 47/100\n",
      "29/29 [==============================] - 0s 14ms/step - loss: 0.0094\n",
      "Epoch 48/100\n",
      "29/29 [==============================] - 0s 14ms/step - loss: 0.0097\n",
      "Epoch 49/100\n",
      "29/29 [==============================] - 0s 14ms/step - loss: 0.0096\n",
      "Epoch 50/100\n",
      "29/29 [==============================] - 0s 13ms/step - loss: 0.0102\n",
      "Epoch 51/100\n",
      "29/29 [==============================] - 0s 12ms/step - loss: 0.0100\n",
      "Epoch 52/100\n",
      "29/29 [==============================] - 0s 14ms/step - loss: 0.0093\n",
      "Epoch 53/100\n",
      "29/29 [==============================] - 0s 13ms/step - loss: 0.0094\n",
      "Epoch 54/100\n",
      "29/29 [==============================] - 0s 13ms/step - loss: 0.0095\n",
      "Epoch 55/100\n",
      "29/29 [==============================] - 0s 14ms/step - loss: 0.0094\n",
      "Epoch 56/100\n",
      "29/29 [==============================] - 1s 17ms/step - loss: 0.0097\n",
      "Epoch 57/100\n",
      "29/29 [==============================] - 0s 13ms/step - loss: 0.0094\n",
      "Epoch 58/100\n",
      "29/29 [==============================] - 0s 14ms/step - loss: 0.0089\n",
      "Epoch 59/100\n",
      "29/29 [==============================] - 0s 13ms/step - loss: 0.0093\n",
      "Epoch 60/100\n",
      "29/29 [==============================] - 0s 14ms/step - loss: 0.0094\n",
      "Epoch 61/100\n",
      "29/29 [==============================] - 0s 15ms/step - loss: 0.0097\n",
      "Epoch 62/100\n",
      "29/29 [==============================] - 0s 13ms/step - loss: 0.0094\n",
      "Epoch 63/100\n",
      "29/29 [==============================] - 0s 13ms/step - loss: 0.0094\n",
      "Epoch 64/100\n",
      "29/29 [==============================] - 0s 14ms/step - loss: 0.0095\n",
      "Epoch 65/100\n",
      "29/29 [==============================] - 0s 13ms/step - loss: 0.0099\n",
      "Epoch 66/100\n",
      "29/29 [==============================] - 0s 14ms/step - loss: 0.0095\n",
      "Epoch 67/100\n",
      "29/29 [==============================] - 0s 13ms/step - loss: 0.0092\n",
      "Epoch 68/100\n",
      "29/29 [==============================] - 0s 14ms/step - loss: 0.0095\n",
      "Epoch 69/100\n",
      "29/29 [==============================] - 0s 17ms/step - loss: 0.0091\n",
      "Epoch 70/100\n",
      "29/29 [==============================] - 0s 13ms/step - loss: 0.0092\n",
      "Epoch 71/100\n",
      "29/29 [==============================] - 0s 13ms/step - loss: 0.0091\n",
      "Epoch 72/100\n",
      "29/29 [==============================] - 0s 14ms/step - loss: 0.0093\n",
      "Epoch 73/100\n",
      "29/29 [==============================] - 0s 15ms/step - loss: 0.0091\n",
      "Epoch 74/100\n",
      "29/29 [==============================] - 0s 14ms/step - loss: 0.0093\n",
      "Epoch 75/100\n",
      "29/29 [==============================] - 0s 13ms/step - loss: 0.0092\n",
      "Epoch 76/100\n",
      "29/29 [==============================] - 0s 13ms/step - loss: 0.0091\n",
      "Epoch 77/100\n",
      "29/29 [==============================] - 0s 14ms/step - loss: 0.0092\n",
      "Epoch 78/100\n",
      "29/29 [==============================] - 0s 14ms/step - loss: 0.0093\n",
      "Epoch 79/100\n",
      "29/29 [==============================] - 0s 14ms/step - loss: 0.0091\n",
      "Epoch 80/100\n",
      "29/29 [==============================] - 0s 15ms/step - loss: 0.0094\n",
      "Epoch 81/100\n",
      "29/29 [==============================] - 0s 15ms/step - loss: 0.0094\n",
      "Epoch 82/100\n",
      "29/29 [==============================] - 1s 18ms/step - loss: 0.0090\n",
      "Epoch 83/100\n",
      "29/29 [==============================] - 0s 15ms/step - loss: 0.0090\n",
      "Epoch 84/100\n",
      "29/29 [==============================] - 0s 16ms/step - loss: 0.0090\n",
      "Epoch 85/100\n",
      "29/29 [==============================] - 0s 14ms/step - loss: 0.0093\n",
      "Epoch 86/100\n",
      "29/29 [==============================] - 0s 15ms/step - loss: 0.0091\n",
      "Epoch 87/100\n",
      "29/29 [==============================] - 0s 13ms/step - loss: 0.0090\n",
      "Epoch 88/100\n",
      "29/29 [==============================] - 0s 13ms/step - loss: 0.0090\n",
      "Epoch 89/100\n",
      "29/29 [==============================] - 0s 14ms/step - loss: 0.0096: 0s - loss: \n",
      "Epoch 90/100\n",
      "29/29 [==============================] - 0s 14ms/step - loss: 0.0095\n",
      "Epoch 91/100\n",
      "29/29 [==============================] - 0s 14ms/step - loss: 0.0091\n",
      "Epoch 92/100\n",
      "29/29 [==============================] - 0s 14ms/step - loss: 0.0091\n",
      "Epoch 93/100\n",
      "29/29 [==============================] - 0s 13ms/step - loss: 0.0090\n",
      "Epoch 94/100\n",
      "29/29 [==============================] - 0s 16ms/step - loss: 0.0090\n",
      "Epoch 95/100\n",
      "29/29 [==============================] - 0s 16ms/step - loss: 0.0089\n",
      "Epoch 96/100\n",
      "29/29 [==============================] - 0s 13ms/step - loss: 0.0090\n",
      "Epoch 97/100\n",
      "29/29 [==============================] - 0s 14ms/step - loss: 0.0092\n",
      "Epoch 98/100\n",
      "29/29 [==============================] - 0s 15ms/step - loss: 0.0093\n",
      "Epoch 99/100\n",
      "29/29 [==============================] - 0s 14ms/step - loss: 0.0089\n",
      "Epoch 100/100\n",
      "29/29 [==============================] - 0s 13ms/step - loss: 0.0088\n",
      "############### Total Time Taken:  1 Minutes #############\n"
     ]
    }
   ],
   "source": [
    "import time\n",
    "StartTime=time.time()\n",
    "\n",
    "regressor.fit(X_train, y_train, batch_size = 8, epochs = 100)\n",
    "\n",
    "EndTime=time.time()\n",
    "print(\"############### Total Time Taken: \", round((EndTime-StartTime)/60), 'Minutes #############')"
   ]
  },
  {
   "cell_type": "code",
   "execution_count": 126,
   "metadata": {},
   "outputs": [
    {
     "data": {
      "text/plain": [
       "array([[ 809.181  ],\n",
       "       [ 830.80475],\n",
       "       [ 859.70514],\n",
       "       [ 891.3318 ],\n",
       "       [ 926.49945],\n",
       "       [ 962.6072 ],\n",
       "       [1005.3335 ],\n",
       "       [1038.1499 ],\n",
       "       [1051.4834 ],\n",
       "       [1069.2001 ]], dtype=float32)"
      ]
     },
     "execution_count": 126,
     "metadata": {},
     "output_type": "execute_result"
    }
   ],
   "source": [
    "predicted_Price = regressor.predict(X_test)\n",
    "predicted_Price = DataScaler.inverse_transform(predicted_Price)\n",
    "predicted_Price"
   ]
  },
  {
   "cell_type": "code",
   "execution_count": 127,
   "metadata": {},
   "outputs": [
    {
     "data": {
      "text/plain": [
       "array([[936.75],\n",
       "       [917.9 ],\n",
       "       [907.95],\n",
       "       [922.85],\n",
       "       [948.45],\n",
       "       [962.85],\n",
       "       [954.15],\n",
       "       [961.45],\n",
       "       [966.  ],\n",
       "       [956.9 ]])"
      ]
     },
     "execution_count": 127,
     "metadata": {},
     "output_type": "execute_result"
    }
   ],
   "source": [
    "orig=y_test\n",
    "orig=DataScaler.inverse_transform(y_test)\n",
    "orig"
   ]
  },
  {
   "cell_type": "code",
   "execution_count": 128,
   "metadata": {},
   "outputs": [
    {
     "data": {
      "text/plain": [
       "93.18978586364683"
      ]
     },
     "execution_count": 128,
     "metadata": {},
     "output_type": "execute_result"
    }
   ],
   "source": [
    "100 - (100*(abs(orig-predicted_Price)/orig)).mean()"
   ]
  },
  {
   "cell_type": "code",
   "execution_count": 129,
   "metadata": {},
   "outputs": [
    {
     "data": {
      "image/png": "[encoded data removed]",
      "text/plain": [
       "<Figure size 1440x432 with 1 Axes>"
      ]
     },
     "metadata": {
      "needs_background": "light"
     },
     "output_type": "display_data"
    }
   ],
   "source": [
    "import matplotlib.pyplot as plt\n",
    "\n",
    "plt.plot(predicted_Price, color = 'blue', label = 'Predicted Volume')\n",
    "plt.plot(orig, color = 'lightblue', label = 'Original Volume')\n",
    "\n",
    "plt.title('Stock Price Predictions')\n",
    "plt.xlabel('Trading Date')\n",
    "plt.xticks(range(TestingRecords), StockData.tail(TestingRecords)['TradeDate'])\n",
    "plt.ylabel('Stock Price')\n",
    "\n",
    "plt.legend()\n",
    "fig=plt.gcf()\n",
    "fig.set_figwidth(20)\n",
    "fig.set_figheight(6)\n",
    "plt.show()"
   ]
  },
  {
   "cell_type": "code",
   "execution_count": 130,
   "metadata": {},
   "outputs": [
    {
     "data": {
      "image/png": "[encoded data removed]",
      "text/plain": [
       "<Figure size 1440x576 with 1 Axes>"
      ]
     },
     "metadata": {
      "needs_background": "light"
     },
     "output_type": "display_data"
    }
   ],
   "source": [
    "TrainPredictions=DataScaler.inverse_transform(regressor.predict(X_train))\n",
    "TestPredictions=DataScaler.inverse_transform(regressor.predict(X_test))\n",
    "\n",
    "FullDataPredictions=np.append(TrainPredictions, TestPredictions)\n",
    "FullDataOrig=FullData[TimeSteps:]\n",
    "\n",
    "plt.plot(FullDataPredictions, color = 'blue', label = 'Predicted Price')\n",
    "plt.plot(FullDataOrig , color = 'lightblue', label = 'Original Price')\n",
    "\n",
    "\n",
    "plt.title('Stock Price Predictions')\n",
    "plt.xlabel('Trading Date')\n",
    "plt.ylabel('Stock Price')\n",
    "plt.legend()\n",
    "fig=plt.gcf()\n",
    "fig.set_figwidth(20)\n",
    "fig.set_figheight(8)\n",
    "plt.show()"
   ]
  },
  {
   "cell_type": "markdown",
   "metadata": {},
   "source": [
    "03/08/2020- ACCURACY 93.18"
   ]
  },
  {
   "cell_type": "markdown",
   "metadata": {},
   "source": [
    "04th Aug 2020"
   ]
  },
  {
   "cell_type": "code",
   "execution_count": 131,
   "metadata": {},
   "outputs": [
    {
     "name": "stdout",
     "output_type": "stream",
     "text": [
      "(248, 14)\n"
     ]
    },
    {
     "data": {
      "text/html": [
       "<div>\n",
       "<style scoped>\n",
       "    .dataframe tbody tr th:only-of-type {\n",
       "        vertical-align: middle;\n",
       "    }\n",
       "\n",
       "    .dataframe tbody tr th {\n",
       "        vertical-align: top;\n",
       "    }\n",
       "\n",
       "    .dataframe thead th {\n",
       "        text-align: right;\n",
       "    }\n",
       "</style>\n",
       "<table border=\"1\" class=\"dataframe\">\n",
       "  <thead>\n",
       "    <tr style=\"text-align: right;\">\n",
       "      <th></th>\n",
       "      <th>Symbol</th>\n",
       "      <th>Series</th>\n",
       "      <th>Prev Close</th>\n",
       "      <th>Open</th>\n",
       "      <th>High</th>\n",
       "      <th>Low</th>\n",
       "      <th>Last</th>\n",
       "      <th>Close</th>\n",
       "      <th>VWAP</th>\n",
       "      <th>Volume</th>\n",
       "      <th>Turnover</th>\n",
       "      <th>Trades</th>\n",
       "      <th>Deliverable Volume</th>\n",
       "      <th>%Deliverble</th>\n",
       "    </tr>\n",
       "    <tr>\n",
       "      <th>Date</th>\n",
       "      <th></th>\n",
       "      <th></th>\n",
       "      <th></th>\n",
       "      <th></th>\n",
       "      <th></th>\n",
       "      <th></th>\n",
       "      <th></th>\n",
       "      <th></th>\n",
       "      <th></th>\n",
       "      <th></th>\n",
       "      <th></th>\n",
       "      <th></th>\n",
       "      <th></th>\n",
       "      <th></th>\n",
       "    </tr>\n",
       "  </thead>\n",
       "  <tbody>\n",
       "    <tr>\n",
       "      <th>2020-07-29</th>\n",
       "      <td>INFY</td>\n",
       "      <td>EQ</td>\n",
       "      <td>962.85</td>\n",
       "      <td>953.25</td>\n",
       "      <td>960.00</td>\n",
       "      <td>943.60</td>\n",
       "      <td>951.95</td>\n",
       "      <td>954.15</td>\n",
       "      <td>952.22</td>\n",
       "      <td>11152710</td>\n",
       "      <td>1.061982e+15</td>\n",
       "      <td>212215</td>\n",
       "      <td>4338542</td>\n",
       "      <td>0.3890</td>\n",
       "    </tr>\n",
       "    <tr>\n",
       "      <th>2020-07-30</th>\n",
       "      <td>INFY</td>\n",
       "      <td>EQ</td>\n",
       "      <td>954.15</td>\n",
       "      <td>962.00</td>\n",
       "      <td>972.65</td>\n",
       "      <td>958.75</td>\n",
       "      <td>962.15</td>\n",
       "      <td>961.45</td>\n",
       "      <td>965.59</td>\n",
       "      <td>12492569</td>\n",
       "      <td>1.206274e+15</td>\n",
       "      <td>222807</td>\n",
       "      <td>5962965</td>\n",
       "      <td>0.4773</td>\n",
       "    </tr>\n",
       "    <tr>\n",
       "      <th>2020-07-31</th>\n",
       "      <td>INFY</td>\n",
       "      <td>EQ</td>\n",
       "      <td>961.45</td>\n",
       "      <td>969.25</td>\n",
       "      <td>986.45</td>\n",
       "      <td>953.30</td>\n",
       "      <td>967.75</td>\n",
       "      <td>966.00</td>\n",
       "      <td>971.12</td>\n",
       "      <td>12704359</td>\n",
       "      <td>1.233742e+15</td>\n",
       "      <td>195979</td>\n",
       "      <td>3201880</td>\n",
       "      <td>0.2520</td>\n",
       "    </tr>\n",
       "    <tr>\n",
       "      <th>2020-08-03</th>\n",
       "      <td>INFY</td>\n",
       "      <td>EQ</td>\n",
       "      <td>966.00</td>\n",
       "      <td>960.00</td>\n",
       "      <td>965.40</td>\n",
       "      <td>947.45</td>\n",
       "      <td>955.30</td>\n",
       "      <td>956.90</td>\n",
       "      <td>954.94</td>\n",
       "      <td>8480166</td>\n",
       "      <td>8.098077e+14</td>\n",
       "      <td>164566</td>\n",
       "      <td>4108547</td>\n",
       "      <td>0.4845</td>\n",
       "    </tr>\n",
       "    <tr>\n",
       "      <th>2020-08-04</th>\n",
       "      <td>INFY</td>\n",
       "      <td>EQ</td>\n",
       "      <td>956.90</td>\n",
       "      <td>960.45</td>\n",
       "      <td>970.70</td>\n",
       "      <td>940.55</td>\n",
       "      <td>952.00</td>\n",
       "      <td>949.85</td>\n",
       "      <td>949.99</td>\n",
       "      <td>11133259</td>\n",
       "      <td>1.057652e+15</td>\n",
       "      <td>166839</td>\n",
       "      <td>5087564</td>\n",
       "      <td>0.4570</td>\n",
       "    </tr>\n",
       "  </tbody>\n",
       "</table>\n",
       "</div>"
      ],
      "text/plain": [
       "           Symbol Series  Prev Close    Open    High     Low    Last   Close  \\\n",
       "Date                                                                           \n",
       "2020-07-29   INFY     EQ      962.85  953.25  960.00  943.60  951.95  954.15   \n",
       "2020-07-30   INFY     EQ      954.15  962.00  972.65  958.75  962.15  961.45   \n",
       "2020-07-31   INFY     EQ      961.45  969.25  986.45  953.30  967.75  966.00   \n",
       "2020-08-03   INFY     EQ      966.00  960.00  965.40  947.45  955.30  956.90   \n",
       "2020-08-04   INFY     EQ      956.90  960.45  970.70  940.55  952.00  949.85   \n",
       "\n",
       "              VWAP    Volume      Turnover  Trades  Deliverable Volume  \\\n",
       "Date                                                                     \n",
       "2020-07-29  952.22  11152710  1.061982e+15  212215             4338542   \n",
       "2020-07-30  965.59  12492569  1.206274e+15  222807             5962965   \n",
       "2020-07-31  971.12  12704359  1.233742e+15  195979             3201880   \n",
       "2020-08-03  954.94   8480166  8.098077e+14  164566             4108547   \n",
       "2020-08-04  949.99  11133259  1.057652e+15  166839             5087564   \n",
       "\n",
       "            %Deliverble  \n",
       "Date                     \n",
       "2020-07-29       0.3890  \n",
       "2020-07-30       0.4773  \n",
       "2020-07-31       0.2520  \n",
       "2020-08-03       0.4845  \n",
       "2020-08-04       0.4570  "
      ]
     },
     "execution_count": 131,
     "metadata": {},
     "output_type": "execute_result"
    }
   ],
   "source": [
    "from nsepy import get_history\n",
    "from datetime import datetime\n",
    "\n",
    "startDate=datetime(2019, 8,1)\n",
    "endDate=datetime(2020, 8,4)\n",
    "\n",
    "# Fetching the data\n",
    "StockData=get_history(symbol='INFY', start=startDate, end=endDate)\n",
    "print(StockData.shape)\n",
    "StockData.tail()"
   ]
  },
  {
   "cell_type": "code",
   "execution_count": 132,
   "metadata": {},
   "outputs": [
    {
     "data": {
      "text/html": [
       "<div>\n",
       "<style scoped>\n",
       "    .dataframe tbody tr th:only-of-type {\n",
       "        vertical-align: middle;\n",
       "    }\n",
       "\n",
       "    .dataframe tbody tr th {\n",
       "        vertical-align: top;\n",
       "    }\n",
       "\n",
       "    .dataframe thead th {\n",
       "        text-align: right;\n",
       "    }\n",
       "</style>\n",
       "<table border=\"1\" class=\"dataframe\">\n",
       "  <thead>\n",
       "    <tr style=\"text-align: right;\">\n",
       "      <th></th>\n",
       "      <th>Symbol</th>\n",
       "      <th>Series</th>\n",
       "      <th>Prev Close</th>\n",
       "      <th>Open</th>\n",
       "      <th>High</th>\n",
       "      <th>Low</th>\n",
       "      <th>Last</th>\n",
       "      <th>Close</th>\n",
       "      <th>VWAP</th>\n",
       "      <th>Volume</th>\n",
       "      <th>Turnover</th>\n",
       "      <th>Trades</th>\n",
       "      <th>Deliverable Volume</th>\n",
       "      <th>%Deliverble</th>\n",
       "      <th>TradeDate</th>\n",
       "    </tr>\n",
       "    <tr>\n",
       "      <th>Date</th>\n",
       "      <th></th>\n",
       "      <th></th>\n",
       "      <th></th>\n",
       "      <th></th>\n",
       "      <th></th>\n",
       "      <th></th>\n",
       "      <th></th>\n",
       "      <th></th>\n",
       "      <th></th>\n",
       "      <th></th>\n",
       "      <th></th>\n",
       "      <th></th>\n",
       "      <th></th>\n",
       "      <th></th>\n",
       "      <th></th>\n",
       "    </tr>\n",
       "  </thead>\n",
       "  <tbody>\n",
       "    <tr>\n",
       "      <th>2020-07-29</th>\n",
       "      <td>INFY</td>\n",
       "      <td>EQ</td>\n",
       "      <td>962.85</td>\n",
       "      <td>953.25</td>\n",
       "      <td>960.00</td>\n",
       "      <td>943.60</td>\n",
       "      <td>951.95</td>\n",
       "      <td>954.15</td>\n",
       "      <td>952.22</td>\n",
       "      <td>11152710</td>\n",
       "      <td>1.061982e+15</td>\n",
       "      <td>212215</td>\n",
       "      <td>4338542</td>\n",
       "      <td>0.3890</td>\n",
       "      <td>2020-07-29</td>\n",
       "    </tr>\n",
       "    <tr>\n",
       "      <th>2020-07-30</th>\n",
       "      <td>INFY</td>\n",
       "      <td>EQ</td>\n",
       "      <td>954.15</td>\n",
       "      <td>962.00</td>\n",
       "      <td>972.65</td>\n",
       "      <td>958.75</td>\n",
       "      <td>962.15</td>\n",
       "      <td>961.45</td>\n",
       "      <td>965.59</td>\n",
       "      <td>12492569</td>\n",
       "      <td>1.206274e+15</td>\n",
       "      <td>222807</td>\n",
       "      <td>5962965</td>\n",
       "      <td>0.4773</td>\n",
       "      <td>2020-07-30</td>\n",
       "    </tr>\n",
       "    <tr>\n",
       "      <th>2020-07-31</th>\n",
       "      <td>INFY</td>\n",
       "      <td>EQ</td>\n",
       "      <td>961.45</td>\n",
       "      <td>969.25</td>\n",
       "      <td>986.45</td>\n",
       "      <td>953.30</td>\n",
       "      <td>967.75</td>\n",
       "      <td>966.00</td>\n",
       "      <td>971.12</td>\n",
       "      <td>12704359</td>\n",
       "      <td>1.233742e+15</td>\n",
       "      <td>195979</td>\n",
       "      <td>3201880</td>\n",
       "      <td>0.2520</td>\n",
       "      <td>2020-07-31</td>\n",
       "    </tr>\n",
       "    <tr>\n",
       "      <th>2020-08-03</th>\n",
       "      <td>INFY</td>\n",
       "      <td>EQ</td>\n",
       "      <td>966.00</td>\n",
       "      <td>960.00</td>\n",
       "      <td>965.40</td>\n",
       "      <td>947.45</td>\n",
       "      <td>955.30</td>\n",
       "      <td>956.90</td>\n",
       "      <td>954.94</td>\n",
       "      <td>8480166</td>\n",
       "      <td>8.098077e+14</td>\n",
       "      <td>164566</td>\n",
       "      <td>4108547</td>\n",
       "      <td>0.4845</td>\n",
       "      <td>2020-08-03</td>\n",
       "    </tr>\n",
       "    <tr>\n",
       "      <th>2020-08-04</th>\n",
       "      <td>INFY</td>\n",
       "      <td>EQ</td>\n",
       "      <td>956.90</td>\n",
       "      <td>960.45</td>\n",
       "      <td>970.70</td>\n",
       "      <td>940.55</td>\n",
       "      <td>952.00</td>\n",
       "      <td>949.85</td>\n",
       "      <td>949.99</td>\n",
       "      <td>11133259</td>\n",
       "      <td>1.057652e+15</td>\n",
       "      <td>166839</td>\n",
       "      <td>5087564</td>\n",
       "      <td>0.4570</td>\n",
       "      <td>2020-08-04</td>\n",
       "    </tr>\n",
       "  </tbody>\n",
       "</table>\n",
       "</div>"
      ],
      "text/plain": [
       "           Symbol Series  Prev Close    Open    High     Low    Last   Close  \\\n",
       "Date                                                                           \n",
       "2020-07-29   INFY     EQ      962.85  953.25  960.00  943.60  951.95  954.15   \n",
       "2020-07-30   INFY     EQ      954.15  962.00  972.65  958.75  962.15  961.45   \n",
       "2020-07-31   INFY     EQ      961.45  969.25  986.45  953.30  967.75  966.00   \n",
       "2020-08-03   INFY     EQ      966.00  960.00  965.40  947.45  955.30  956.90   \n",
       "2020-08-04   INFY     EQ      956.90  960.45  970.70  940.55  952.00  949.85   \n",
       "\n",
       "              VWAP    Volume      Turnover  Trades  Deliverable Volume  \\\n",
       "Date                                                                     \n",
       "2020-07-29  952.22  11152710  1.061982e+15  212215             4338542   \n",
       "2020-07-30  965.59  12492569  1.206274e+15  222807             5962965   \n",
       "2020-07-31  971.12  12704359  1.233742e+15  195979             3201880   \n",
       "2020-08-03  954.94   8480166  8.098077e+14  164566             4108547   \n",
       "2020-08-04  949.99  11133259  1.057652e+15  166839             5087564   \n",
       "\n",
       "            %Deliverble   TradeDate  \n",
       "Date                                 \n",
       "2020-07-29       0.3890  2020-07-29  \n",
       "2020-07-30       0.4773  2020-07-30  \n",
       "2020-07-31       0.2520  2020-07-31  \n",
       "2020-08-03       0.4845  2020-08-03  \n",
       "2020-08-04       0.4570  2020-08-04  "
      ]
     },
     "execution_count": 132,
     "metadata": {},
     "output_type": "execute_result"
    }
   ],
   "source": [
    "StockData['TradeDate']=StockData.index\n",
    "StockData.tail()"
   ]
  },
  {
   "cell_type": "code",
   "execution_count": 133,
   "metadata": {},
   "outputs": [
    {
     "data": {
      "text/plain": [
       "<matplotlib.axes._subplots.AxesSubplot at 0x1e2f1808>"
      ]
     },
     "execution_count": 133,
     "metadata": {},
     "output_type": "execute_result"
    },
    {
     "data": {
      "image/png": "[encoded data removed]",
      "text/plain": [
       "<Figure size 1440x432 with 1 Axes>"
      ]
     },
     "metadata": {
      "needs_background": "light"
     },
     "output_type": "display_data"
    }
   ],
   "source": [
    "%matplotlib inline\n",
    "StockData.plot(x='TradeDate', y='Close', kind='line', figsize=(20,6), rot=20)"
   ]
  },
  {
   "cell_type": "code",
   "execution_count": 134,
   "metadata": {},
   "outputs": [
    {
     "data": {
      "text/plain": [
       "array([[768.85],\n",
       "       [775.6 ],\n",
       "       [776.7 ],\n",
       "       [774.45],\n",
       "       [776.1 ]])"
      ]
     },
     "execution_count": 134,
     "metadata": {},
     "output_type": "execute_result"
    }
   ],
   "source": [
    "FullData=StockData[['Close']].values\n",
    "FullData[0:5]"
   ]
  },
  {
   "cell_type": "code",
   "execution_count": 135,
   "metadata": {},
   "outputs": [
    {
     "data": {
      "text/plain": [
       "array([[0.5514731 ],\n",
       "       [0.56682971],\n",
       "       [0.56933227],\n",
       "       [0.5642134 ],\n",
       "       [0.56796724]])"
      ]
     },
     "execution_count": 135,
     "metadata": {},
     "output_type": "execute_result"
    }
   ],
   "source": [
    "from sklearn.preprocessing import StandardScaler, MinMaxScaler\n",
    "sc=MinMaxScaler()\n",
    "\n",
    "DataScaler = sc.fit(FullData)\n",
    "X=DataScaler.transform(FullData)\n",
    "\n",
    "X[0:5]"
   ]
  },
  {
   "cell_type": "code",
   "execution_count": 136,
   "metadata": {},
   "outputs": [],
   "source": [
    "X_samples = list()\n",
    "y_samples = list()\n",
    "\n",
    "NumerOfRows = len(X)\n",
    "TimeSteps=10  \n",
    "\n",
    "for i in range(TimeSteps , NumerOfRows , 1):\n",
    "    x_sample = X[i-TimeSteps:i]\n",
    "    y_sample = X[i]\n",
    "    X_samples.append(x_sample)\n",
    "    y_samples.append(y_sample)"
   ]
  },
  {
   "cell_type": "code",
   "execution_count": 137,
   "metadata": {},
   "outputs": [
    {
     "data": {
      "text/plain": [
       "(238, 10, 1)"
      ]
     },
     "execution_count": 137,
     "metadata": {},
     "output_type": "execute_result"
    }
   ],
   "source": [
    "X_data=np.array(X_samples)\n",
    "X_data=X_data.reshape(X_data.shape[0],X_data.shape[1], 1)\n",
    "X_data.shape"
   ]
  },
  {
   "cell_type": "code",
   "execution_count": 138,
   "metadata": {},
   "outputs": [
    {
     "data": {
      "text/plain": [
       "(238, 1)"
      ]
     },
     "execution_count": 138,
     "metadata": {},
     "output_type": "execute_result"
    }
   ],
   "source": [
    "y_data=np.array(y_samples)\n",
    "y_data=y_data.reshape(y_data.shape[0], 1)\n",
    "y_data.shape"
   ]
  },
  {
   "cell_type": "code",
   "execution_count": 139,
   "metadata": {},
   "outputs": [],
   "source": [
    "TestingRecords=10\n",
    "\n",
    "X_train=X_data[:-TestingRecords]\n",
    "X_test=X_data[-TestingRecords:]\n",
    "y_train=y_data[:-TestingRecords]\n",
    "y_test=y_data[-TestingRecords:]"
   ]
  },
  {
   "cell_type": "code",
   "execution_count": 140,
   "metadata": {},
   "outputs": [
    {
     "name": "stdout",
     "output_type": "stream",
     "text": [
      "(228, 10, 1)\n",
      "(228, 1)\n",
      "(10, 10, 1)\n",
      "(10, 1)\n"
     ]
    }
   ],
   "source": [
    "print(X_train.shape)\n",
    "print(y_train.shape)\n",
    "print(X_test.shape)\n",
    "print(y_test.shape)"
   ]
  },
  {
   "cell_type": "code",
   "execution_count": 141,
   "metadata": {},
   "outputs": [
    {
     "name": "stdout",
     "output_type": "stream",
     "text": [
      "[[0.5514731 ]\n",
      " [0.56682971]\n",
      " [0.56933227]\n",
      " [0.5642134 ]\n",
      " [0.56796724]\n",
      " [0.59674667]\n",
      " [0.59924923]\n",
      " [0.54214538]\n",
      " [0.56500967]\n",
      " [0.56444091]] --> [0.57149357]\n",
      "[[0.56682971]\n",
      " [0.56933227]\n",
      " [0.5642134 ]\n",
      " [0.56796724]\n",
      " [0.59674667]\n",
      " [0.59924923]\n",
      " [0.54214538]\n",
      " [0.56500967]\n",
      " [0.56444091]\n",
      " [0.57149357]] --> [0.60584689]\n",
      "[[0.56933227]\n",
      " [0.5642134 ]\n",
      " [0.56796724]\n",
      " [0.59674667]\n",
      " [0.59924923]\n",
      " [0.54214538]\n",
      " [0.56500967]\n",
      " [0.56444091]\n",
      " [0.57149357]\n",
      " [0.60584689]] --> [0.62108975]\n",
      "[[0.5642134 ]\n",
      " [0.56796724]\n",
      " [0.59674667]\n",
      " [0.59924923]\n",
      " [0.54214538]\n",
      " [0.56500967]\n",
      " [0.56444091]\n",
      " [0.57149357]\n",
      " [0.60584689]\n",
      " [0.62108975]] --> [0.6125583]\n",
      "[[0.56796724]\n",
      " [0.59674667]\n",
      " [0.59924923]\n",
      " [0.54214538]\n",
      " [0.56500967]\n",
      " [0.56444091]\n",
      " [0.57149357]\n",
      " [0.60584689]\n",
      " [0.62108975]\n",
      " [0.6125583 ]] --> [0.62734615]\n"
     ]
    }
   ],
   "source": [
    "for inp, out in zip(X_train[0:5], y_train[0:5]):\n",
    "    print(inp,'-->', out)"
   ]
  },
  {
   "cell_type": "code",
   "execution_count": 142,
   "metadata": {},
   "outputs": [
    {
     "name": "stdout",
     "output_type": "stream",
     "text": [
      "Number of TimeSteps: 10\n",
      "Number of Features: 1\n"
     ]
    }
   ],
   "source": [
    "TimeSteps=X_train.shape[1]\n",
    "TotalFeatures=X_train.shape[2]\n",
    "print(\"Number of TimeSteps:\", TimeSteps)\n",
    "print(\"Number of Features:\", TotalFeatures)"
   ]
  },
  {
   "cell_type": "code",
   "execution_count": 143,
   "metadata": {},
   "outputs": [],
   "source": [
    "from keras.models import Sequential\n",
    "from keras.layers import Dense\n",
    "from keras.layers import LSTM\n",
    "\n",
    "regressor = Sequential()\n",
    "\n",
    "regressor.add(LSTM(units = 4, activation = 'relu', input_shape = (TimeSteps, TotalFeatures), return_sequences=True))\n",
    "\n",
    "\n",
    "regressor.add(LSTM(units = 5, activation = 'relu', input_shape = (TimeSteps, TotalFeatures), return_sequences=True))\n",
    "\n",
    "regressor.add(LSTM(units = 5, activation = 'relu', return_sequences=False ))\n",
    "\n",
    "\n",
    "regressor.add(Dense(units = 1))\n",
    "\n",
    "regressor.compile(optimizer = 'adam', loss = 'mean_squared_error')"
   ]
  },
  {
   "cell_type": "code",
   "execution_count": 145,
   "metadata": {},
   "outputs": [
    {
     "name": "stdout",
     "output_type": "stream",
     "text": [
      "Epoch 1/100\n",
      "38/38 [==============================] - 0s 9ms/step - loss: 0.0075\n",
      "Epoch 2/100\n",
      "38/38 [==============================] - 0s 10ms/step - loss: 0.0078\n",
      "Epoch 3/100\n",
      "38/38 [==============================] - 0s 9ms/step - loss: 0.0074\n",
      "Epoch 4/100\n",
      "38/38 [==============================] - 0s 9ms/step - loss: 0.0071\n",
      "Epoch 5/100\n",
      "38/38 [==============================] - 0s 10ms/step - loss: 0.0071\n",
      "Epoch 6/100\n",
      "38/38 [==============================] - 0s 9ms/step - loss: 0.0069\n",
      "Epoch 7/100\n",
      "38/38 [==============================] - 0s 10ms/step - loss: 0.0069\n",
      "Epoch 8/100\n",
      "38/38 [==============================] - 0s 13ms/step - loss: 0.0072\n",
      "Epoch 9/100\n",
      "38/38 [==============================] - 0s 11ms/step - loss: 0.0070\n",
      "Epoch 10/100\n",
      "38/38 [==============================] - 0s 9ms/step - loss: 0.0064\n",
      "Epoch 11/100\n",
      "38/38 [==============================] - 0s 9ms/step - loss: 0.0060\n",
      "Epoch 12/100\n",
      "38/38 [==============================] - 0s 10ms/step - loss: 0.0065\n",
      "Epoch 13/100\n",
      "38/38 [==============================] - 0s 9ms/step - loss: 0.0058\n",
      "Epoch 14/100\n",
      "38/38 [==============================] - 0s 9ms/step - loss: 0.0060\n",
      "Epoch 15/100\n",
      "38/38 [==============================] - 0s 10ms/step - loss: 0.0057\n",
      "Epoch 16/100\n",
      "38/38 [==============================] - 0s 9ms/step - loss: 0.0058\n",
      "Epoch 17/100\n",
      "38/38 [==============================] - 0s 9ms/step - loss: 0.0049\n",
      "Epoch 18/100\n",
      "38/38 [==============================] - 0s 9ms/step - loss: 0.0052\n",
      "Epoch 19/100\n",
      "38/38 [==============================] - 0s 9ms/step - loss: 0.0043\n",
      "Epoch 20/100\n",
      "38/38 [==============================] - 0s 9ms/step - loss: 0.0043\n",
      "Epoch 21/100\n",
      "38/38 [==============================] - 0s 9ms/step - loss: 0.0042\n",
      "Epoch 22/100\n",
      "38/38 [==============================] - 0s 12ms/step - loss: 0.0047\n",
      "Epoch 23/100\n",
      "38/38 [==============================] - 0s 11ms/step - loss: 0.0041\n",
      "Epoch 24/100\n",
      "38/38 [==============================] - 0s 10ms/step - loss: 0.0038\n",
      "Epoch 25/100\n",
      "38/38 [==============================] - 0s 9ms/step - loss: 0.0036\n",
      "Epoch 26/100\n",
      "38/38 [==============================] - 0s 9ms/step - loss: 0.0037\n",
      "Epoch 27/100\n",
      "38/38 [==============================] - 0s 10ms/step - loss: 0.0046\n",
      "Epoch 28/100\n",
      "38/38 [==============================] - 0s 9ms/step - loss: 0.0040\n",
      "Epoch 29/100\n",
      "38/38 [==============================] - 0s 9ms/step - loss: 0.0034\n",
      "Epoch 30/100\n",
      "38/38 [==============================] - 0s 10ms/step - loss: 0.0035\n",
      "Epoch 31/100\n",
      "38/38 [==============================] - 0s 9ms/step - loss: 0.0033\n",
      "Epoch 32/100\n",
      "38/38 [==============================] - 0s 11ms/step - loss: 0.0032\n",
      "Epoch 33/100\n",
      "38/38 [==============================] - 0s 9ms/step - loss: 0.0037\n",
      "Epoch 34/100\n",
      "38/38 [==============================] - 0s 9ms/step - loss: 0.0034\n",
      "Epoch 35/100\n",
      "38/38 [==============================] - 0s 10ms/step - loss: 0.0040\n",
      "Epoch 36/100\n",
      "38/38 [==============================] - 0s 10ms/step - loss: 0.0032\n",
      "Epoch 37/100\n",
      "38/38 [==============================] - 0s 13ms/step - loss: 0.0032\n",
      "Epoch 38/100\n",
      "38/38 [==============================] - 0s 10ms/step - loss: 0.0033\n",
      "Epoch 39/100\n",
      "38/38 [==============================] - 0s 10ms/step - loss: 0.0036: 0s - loss:\n",
      "Epoch 40/100\n",
      "38/38 [==============================] - 0s 10ms/step - loss: 0.0032\n",
      "Epoch 41/100\n",
      "38/38 [==============================] - 0s 9ms/step - loss: 0.0033\n",
      "Epoch 42/100\n",
      "38/38 [==============================] - 0s 10ms/step - loss: 0.0034\n",
      "Epoch 43/100\n",
      "38/38 [==============================] - 0s 9ms/step - loss: 0.0040\n",
      "Epoch 44/100\n",
      "38/38 [==============================] - 0s 9ms/step - loss: 0.0036\n",
      "Epoch 45/100\n",
      "38/38 [==============================] - 0s 10ms/step - loss: 0.0034\n",
      "Epoch 46/100\n",
      "38/38 [==============================] - 0s 10ms/step - loss: 0.0030\n",
      "Epoch 47/100\n",
      "38/38 [==============================] - 0s 9ms/step - loss: 0.0030\n",
      "Epoch 48/100\n",
      "38/38 [==============================] - 0s 10ms/step - loss: 0.0031\n",
      "Epoch 49/100\n",
      "38/38 [==============================] - 0s 10ms/step - loss: 0.0032\n",
      "Epoch 50/100\n",
      "38/38 [==============================] - 0s 10ms/step - loss: 0.0032\n",
      "Epoch 51/100\n",
      "38/38 [==============================] - 1s 13ms/step - loss: 0.0030\n",
      "Epoch 52/100\n",
      "38/38 [==============================] - 0s 9ms/step - loss: 0.0029\n",
      "Epoch 53/100\n",
      "38/38 [==============================] - 0s 9ms/step - loss: 0.0030\n",
      "Epoch 54/100\n",
      "38/38 [==============================] - 0s 10ms/step - loss: 0.0032\n",
      "Epoch 55/100\n",
      "38/38 [==============================] - 0s 10ms/step - loss: 0.0028\n",
      "Epoch 56/100\n",
      "38/38 [==============================] - 0s 9ms/step - loss: 0.0031\n",
      "Epoch 57/100\n",
      "38/38 [==============================] - 0s 10ms/step - loss: 0.0028\n",
      "Epoch 58/100\n",
      "38/38 [==============================] - 0s 9ms/step - loss: 0.0029\n",
      "Epoch 59/100\n",
      "38/38 [==============================] - 0s 10ms/step - loss: 0.0028\n",
      "Epoch 60/100\n",
      "38/38 [==============================] - 0s 11ms/step - loss: 0.0029\n",
      "Epoch 61/100\n",
      "38/38 [==============================] - 0s 11ms/step - loss: 0.0028\n",
      "Epoch 62/100\n",
      "38/38 [==============================] - 0s 9ms/step - loss: 0.0029\n",
      "Epoch 63/100\n",
      "38/38 [==============================] - 0s 11ms/step - loss: 0.0028\n",
      "Epoch 64/100\n",
      "38/38 [==============================] - 0s 11ms/step - loss: 0.0032\n",
      "Epoch 65/100\n",
      "38/38 [==============================] - 1s 14ms/step - loss: 0.0028\n",
      "Epoch 66/100\n",
      "38/38 [==============================] - 0s 11ms/step - loss: 0.0027\n",
      "Epoch 67/100\n",
      "38/38 [==============================] - 0s 9ms/step - loss: 0.0029\n",
      "Epoch 68/100\n",
      "38/38 [==============================] - 0s 11ms/step - loss: 0.0026\n",
      "Epoch 69/100\n",
      "38/38 [==============================] - 0s 9ms/step - loss: 0.0028\n",
      "Epoch 70/100\n",
      "38/38 [==============================] - 0s 10ms/step - loss: 0.0028\n",
      "Epoch 71/100\n",
      "38/38 [==============================] - 0s 11ms/step - loss: 0.0029\n",
      "Epoch 72/100\n",
      "38/38 [==============================] - 0s 10ms/step - loss: 0.0027\n",
      "Epoch 73/100\n",
      "38/38 [==============================] - 0s 10ms/step - loss: 0.0027\n",
      "Epoch 74/100\n",
      "38/38 [==============================] - 0s 11ms/step - loss: 0.0027\n",
      "Epoch 75/100\n",
      "38/38 [==============================] - 0s 10ms/step - loss: 0.0034\n",
      "Epoch 76/100\n",
      "38/38 [==============================] - 0s 9ms/step - loss: 0.0028\n",
      "Epoch 77/100\n",
      "38/38 [==============================] - 0s 11ms/step - loss: 0.0026\n",
      "Epoch 78/100\n",
      "38/38 [==============================] - 0s 12ms/step - loss: 0.0028\n",
      "Epoch 79/100\n",
      "38/38 [==============================] - 0s 13ms/step - loss: 0.0026\n",
      "Epoch 80/100\n",
      "38/38 [==============================] - 0s 10ms/step - loss: 0.0027\n",
      "Epoch 81/100\n",
      "38/38 [==============================] - 0s 10ms/step - loss: 0.0028\n",
      "Epoch 82/100\n",
      "38/38 [==============================] - 0s 11ms/step - loss: 0.0027\n",
      "Epoch 83/100\n",
      "38/38 [==============================] - 0s 10ms/step - loss: 0.0025\n",
      "Epoch 84/100\n",
      "38/38 [==============================] - 0s 11ms/step - loss: 0.0025\n",
      "Epoch 85/100\n",
      "38/38 [==============================] - 0s 10ms/step - loss: 0.0026\n",
      "Epoch 86/100\n",
      "38/38 [==============================] - 0s 11ms/step - loss: 0.0026\n",
      "Epoch 87/100\n",
      "38/38 [==============================] - 0s 10ms/step - loss: 0.0025\n",
      "Epoch 88/100\n",
      "38/38 [==============================] - 0s 11ms/step - loss: 0.0027\n",
      "Epoch 89/100\n",
      "38/38 [==============================] - 0s 10ms/step - loss: 0.0024\n",
      "Epoch 90/100\n",
      "38/38 [==============================] - 0s 10ms/step - loss: 0.0025\n",
      "Epoch 91/100\n",
      "38/38 [==============================] - 1s 14ms/step - loss: 0.0024\n",
      "Epoch 92/100\n",
      "38/38 [==============================] - 0s 13ms/step - loss: 0.0024\n",
      "Epoch 93/100\n",
      "38/38 [==============================] - 0s 10ms/step - loss: 0.0026\n",
      "Epoch 94/100\n",
      "38/38 [==============================] - 0s 11ms/step - loss: 0.0026\n",
      "Epoch 95/100\n",
      "38/38 [==============================] - 0s 10ms/step - loss: 0.0026\n",
      "Epoch 96/100\n",
      "38/38 [==============================] - 0s 11ms/step - loss: 0.0025\n",
      "Epoch 97/100\n",
      "38/38 [==============================] - 0s 9ms/step - loss: 0.0024\n",
      "Epoch 98/100\n",
      "38/38 [==============================] - 0s 11ms/step - loss: 0.0024\n",
      "Epoch 99/100\n",
      "38/38 [==============================] - 0s 10ms/step - loss: 0.0025\n",
      "Epoch 100/100\n",
      "38/38 [==============================] - 0s 10ms/step - loss: 0.0024 ETA: 0s - loss: 0.00\n",
      "############### Total Time Taken:  1 Minutes #############\n"
     ]
    }
   ],
   "source": [
    "import time\n",
    "StartTime=time.time()\n",
    "\n",
    "regressor.fit(X_train, y_train, batch_size = 6, epochs = 100)\n",
    "\n",
    "EndTime=time.time()\n",
    "print(\"############### Total Time Taken: \", round((EndTime-StartTime)/60), 'Minutes #############')"
   ]
  },
  {
   "cell_type": "code",
   "execution_count": 146,
   "metadata": {},
   "outputs": [
    {
     "data": {
      "text/plain": [
       "array([[1012.16907],\n",
       "       [ 987.55536],\n",
       "       [ 957.8317 ],\n",
       "       [ 957.0311 ],\n",
       "       [ 977.69574],\n",
       "       [ 995.33966],\n",
       "       [ 987.1771 ],\n",
       "       [ 998.06104],\n",
       "       [1008.0018 ],\n",
       "       [1000.977  ]], dtype=float32)"
      ]
     },
     "execution_count": 146,
     "metadata": {},
     "output_type": "execute_result"
    }
   ],
   "source": [
    "predicted_Price = regressor.predict(X_test)\n",
    "predicted_Price = DataScaler.inverse_transform(predicted_Price)\n",
    "predicted_Price"
   ]
  },
  {
   "cell_type": "code",
   "execution_count": 147,
   "metadata": {},
   "outputs": [
    {
     "data": {
      "text/plain": [
       "array([[917.9 ],\n",
       "       [907.95],\n",
       "       [922.85],\n",
       "       [948.45],\n",
       "       [962.85],\n",
       "       [954.15],\n",
       "       [961.45],\n",
       "       [966.  ],\n",
       "       [956.9 ],\n",
       "       [949.85]])"
      ]
     },
     "execution_count": 147,
     "metadata": {},
     "output_type": "execute_result"
    }
   ],
   "source": [
    "orig=y_test\n",
    "orig=DataScaler.inverse_transform(y_test)\n",
    "orig"
   ]
  },
  {
   "cell_type": "code",
   "execution_count": 148,
   "metadata": {},
   "outputs": [
    {
     "data": {
      "text/plain": [
       "95.3690406617137"
      ]
     },
     "execution_count": 148,
     "metadata": {},
     "output_type": "execute_result"
    }
   ],
   "source": [
    "100 - (100*(abs(orig-predicted_Price)/orig)).mean()"
   ]
  },
  {
   "cell_type": "code",
   "execution_count": 149,
   "metadata": {},
   "outputs": [
    {
     "data": {
      "image/png": "[encoded data removed]",
      "text/plain": [
       "<Figure size 1440x432 with 1 Axes>"
      ]
     },
     "metadata": {
      "needs_background": "light"
     },
     "output_type": "display_data"
    }
   ],
   "source": [
    "import matplotlib.pyplot as plt\n",
    "\n",
    "plt.plot(predicted_Price, color = 'blue', label = 'Predicted Volume')\n",
    "plt.plot(orig, color = 'lightblue', label = 'Original Volume')\n",
    "\n",
    "plt.title('Stock Price Predictions')\n",
    "plt.xlabel('Trading Date')\n",
    "plt.xticks(range(TestingRecords), StockData.tail(TestingRecords)['TradeDate'])\n",
    "plt.ylabel('Stock Price')\n",
    "\n",
    "plt.legend()\n",
    "fig=plt.gcf()\n",
    "fig.set_figwidth(20)\n",
    "fig.set_figheight(6)\n",
    "plt.show()"
   ]
  },
  {
   "cell_type": "code",
   "execution_count": 150,
   "metadata": {},
   "outputs": [
    {
     "data": {
      "image/png": "[encoded data removed]",
      "text/plain": [
       "<Figure size 1440x576 with 1 Axes>"
      ]
     },
     "metadata": {
      "needs_background": "light"
     },
     "output_type": "display_data"
    }
   ],
   "source": [
    "TrainPredictions=DataScaler.inverse_transform(regressor.predict(X_train))\n",
    "TestPredictions=DataScaler.inverse_transform(regressor.predict(X_test))\n",
    "\n",
    "FullDataPredictions=np.append(TrainPredictions, TestPredictions)\n",
    "FullDataOrig=FullData[TimeSteps:]\n",
    "\n",
    "plt.plot(FullDataPredictions, color = 'blue', label = 'Predicted Price')\n",
    "plt.plot(FullDataOrig , color = 'lightblue', label = 'Original Price')\n",
    "\n",
    "\n",
    "plt.title('Stock Price Predictions')\n",
    "plt.xlabel('Trading Date')\n",
    "plt.ylabel('Stock Price')\n",
    "plt.legend()\n",
    "fig=plt.gcf()\n",
    "fig.set_figwidth(20)\n",
    "fig.set_figheight(8)\n",
    "plt.show()"
   ]
  },
  {
   "cell_type": "markdown",
   "metadata": {},
   "source": [
    "DAY 4 - ACCURACY 95.36"
   ]
  },
  {
   "cell_type": "code",
   "execution_count": null,
   "metadata": {},
   "outputs": [],
   "source": []
  },
  {
   "cell_type": "code",
   "execution_count": null,
   "metadata": {},
   "outputs": [],
   "source": []
  },
  {
   "cell_type": "code",
   "execution_count": null,
   "metadata": {},
   "outputs": [],
   "source": []
  },
  {
   "cell_type": "code",
   "execution_count": null,
   "metadata": {},
   "outputs": [],
   "source": []
  },
  {
   "cell_type": "code",
   "execution_count": null,
   "metadata": {},
   "outputs": [],
   "source": []
  }
 ],
 "metadata": {
  "kernelspec": {
   "display_name": "Python 3",
   "language": "python",
   "name": "python3"
  },
  "language_info": {
   "codemirror_mode": {
    "name": "ipython",
    "version": 3
   },
   "file_extension": ".py",
   "mimetype": "text/x-python",
   "name": "python",
   "nbconvert_exporter": "python",
   "pygments_lexer": "ipython3",
   "version": "3.7.6"
  }
 },
 "nbformat": 4,
 "nbformat_minor": 4
}
